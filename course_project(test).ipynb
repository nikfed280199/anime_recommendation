{
  "nbformat": 4,
  "nbformat_minor": 0,
  "metadata": {
    "colab": {
      "name": "course_project(test).ipynb",
      "provenance": [],
      "collapsed_sections": [],
      "mount_file_id": "1-8S2KRo8dbkK7AUGrj8n8eRNgnhOoy_z",
      "authorship_tag": "ABX9TyNP3zWRgS+C+tADJwof9wkY",
      "include_colab_link": true
    },
    "kernelspec": {
      "name": "python3",
      "display_name": "Python 3"
    },
    "language_info": {
      "name": "python"
    }
  },
  "cells": [
    {
      "cell_type": "markdown",
      "metadata": {
        "id": "view-in-github",
        "colab_type": "text"
      },
      "source": [
        "<a href=\"https://colab.research.google.com/github/nikfed280199/anime_recommendation/blob/main/course_project(test).ipynb\" target=\"_parent\"><img src=\"https://colab.research.google.com/assets/colab-badge.svg\" alt=\"Open In Colab\"/></a>"
      ]
    },
    {
      "cell_type": "markdown",
      "metadata": {
        "id": "8Hzl8RNqooM1"
      },
      "source": [
        "Построение рекомендательной системы\n",
        "\n",
        "---\n",
        "\n"
      ]
    },
    {
      "cell_type": "markdown",
      "metadata": {
        "id": "VXlLOIinpICu"
      },
      "source": [
        "Теория:\n",
        "\n",
        "\n",
        "1.   Алгоритмы прогнозирования рекомендаций для новых пользователей - http://data4.ru/timearrima\n",
        "2.   Прогнозирование временных рядов с помощью рекуррентных нейронных сетей - https://habr.com/ru/post/495884/\n",
        "3.   10 лайфхаков разработки рекомендательных систем - https://habr.com/ru/post/476224/\n",
        "4.   Алгоритмы решения временных рядов в прогнозировании - https://habr.com/ru/post/477206/\n",
        "5.   Курсовая работа \"Формирование персонализированного предложения на основе личных предпочтений клиента\" - https://core.ac.uk/download/pdf/153543262.pdf\n",
        "6.   Магистерская диссертация - https://dspace.spbu.ru/bitstream/11701/11643/1/diplom_chernobay.pdf\n",
        "7.   Анатомия рекомендательных систем. Часть первая - https://habr.com/ru/company/lanit/blog/420499/\n",
        "8.   Темы курсовых и дипломных работ под руководством сотрудников кафедры технологий моделирования сложных систем:https://cs.hse.ru/tmsyst/oldprojects\n",
        "9.   Что такое дерево решений и где его используют? - https://habr.com/ru/company/productstar/blog/523044/"
      ]
    },
    {
      "cell_type": "markdown",
      "metadata": {
        "id": "MZT7G6lWz1HI"
      },
      "source": [
        "Практика:\n",
        "\n",
        "\n",
        "1.   Пример построения прогноза - https://ru.coursera.org/lecture/data-analysis-applications/primier-postroieniia-proghnoza-rnCnt\n",
        "2.   Рекомендательные системы для Netflix - http://rstudio-pubs-static.s3.amazonaws.com/505493_96a81a4275214c838913c48575a354fa.html\n",
        "3.   Разработка рекомендательной системы на основе извлечения и анализа интересов пользователей - https://dspace.spbu.ru/bitstream/11701/11643/1/diplom_chernobay.pdf\n"
      ]
    },
    {
      "cell_type": "code",
      "metadata": {
        "id": "31X2t6Mgmcwl"
      },
      "source": [
        "import pandas as pd\n",
        "import numpy as np\n",
        "import seaborn as sns\n",
        "import matplotlib.pyplot as plt\n",
        "\n",
        "anime = pd.read_csv(\"/content/drive/MyDrive/Курс 3/Семестр6/CourseProject/asd/anime.csv\")\n",
        "rating = pd.read_csv(\"/content/drive/MyDrive/Курс 3/Семестр6/CourseProject/asd/rating.csv\")"
      ],
      "execution_count": null,
      "outputs": []
    },
    {
      "cell_type": "code",
      "metadata": {
        "colab": {
          "base_uri": "https://localhost:8080/",
          "height": 195
        },
        "id": "F58J-NXcK2_i",
        "outputId": "bd17bd19-2a04-42b6-fb21-ce9e4b4f8dab"
      },
      "source": [
        "anime.head()"
      ],
      "execution_count": null,
      "outputs": [
        {
          "output_type": "execute_result",
          "data": {
            "text/html": [
              "<div>\n",
              "<style scoped>\n",
              "    .dataframe tbody tr th:only-of-type {\n",
              "        vertical-align: middle;\n",
              "    }\n",
              "\n",
              "    .dataframe tbody tr th {\n",
              "        vertical-align: top;\n",
              "    }\n",
              "\n",
              "    .dataframe thead th {\n",
              "        text-align: right;\n",
              "    }\n",
              "</style>\n",
              "<table border=\"1\" class=\"dataframe\">\n",
              "  <thead>\n",
              "    <tr style=\"text-align: right;\">\n",
              "      <th></th>\n",
              "      <th>anime_id</th>\n",
              "      <th>name</th>\n",
              "      <th>genre</th>\n",
              "      <th>type</th>\n",
              "      <th>episodes</th>\n",
              "      <th>rating</th>\n",
              "      <th>members</th>\n",
              "    </tr>\n",
              "  </thead>\n",
              "  <tbody>\n",
              "    <tr>\n",
              "      <th>0</th>\n",
              "      <td>32281</td>\n",
              "      <td>Kimi no Na wa.</td>\n",
              "      <td>Drama, Romance, School, Supernatural</td>\n",
              "      <td>Movie</td>\n",
              "      <td>1</td>\n",
              "      <td>9.37</td>\n",
              "      <td>200630</td>\n",
              "    </tr>\n",
              "    <tr>\n",
              "      <th>1</th>\n",
              "      <td>5114</td>\n",
              "      <td>Fullmetal Alchemist: Brotherhood</td>\n",
              "      <td>Action, Adventure, Drama, Fantasy, Magic, Mili...</td>\n",
              "      <td>TV</td>\n",
              "      <td>64</td>\n",
              "      <td>9.26</td>\n",
              "      <td>793665</td>\n",
              "    </tr>\n",
              "    <tr>\n",
              "      <th>2</th>\n",
              "      <td>28977</td>\n",
              "      <td>Gintama°</td>\n",
              "      <td>Action, Comedy, Historical, Parody, Samurai, S...</td>\n",
              "      <td>TV</td>\n",
              "      <td>51</td>\n",
              "      <td>9.25</td>\n",
              "      <td>114262</td>\n",
              "    </tr>\n",
              "    <tr>\n",
              "      <th>3</th>\n",
              "      <td>9253</td>\n",
              "      <td>Steins;Gate</td>\n",
              "      <td>Sci-Fi, Thriller</td>\n",
              "      <td>TV</td>\n",
              "      <td>24</td>\n",
              "      <td>9.17</td>\n",
              "      <td>673572</td>\n",
              "    </tr>\n",
              "    <tr>\n",
              "      <th>4</th>\n",
              "      <td>9969</td>\n",
              "      <td>Gintama&amp;#039;</td>\n",
              "      <td>Action, Comedy, Historical, Parody, Samurai, S...</td>\n",
              "      <td>TV</td>\n",
              "      <td>51</td>\n",
              "      <td>9.16</td>\n",
              "      <td>151266</td>\n",
              "    </tr>\n",
              "  </tbody>\n",
              "</table>\n",
              "</div>"
            ],
            "text/plain": [
              "   anime_id                              name  ... rating members\n",
              "0     32281                    Kimi no Na wa.  ...   9.37  200630\n",
              "1      5114  Fullmetal Alchemist: Brotherhood  ...   9.26  793665\n",
              "2     28977                          Gintama°  ...   9.25  114262\n",
              "3      9253                       Steins;Gate  ...   9.17  673572\n",
              "4      9969                     Gintama&#039;  ...   9.16  151266\n",
              "\n",
              "[5 rows x 7 columns]"
            ]
          },
          "metadata": {
            "tags": []
          },
          "execution_count": 2
        }
      ]
    },
    {
      "cell_type": "code",
      "metadata": {
        "colab": {
          "base_uri": "https://localhost:8080/",
          "height": 195
        },
        "id": "6xakjjAo_uAP",
        "outputId": "c670aa6d-54f5-4da3-a14c-4ba0c378d957"
      },
      "source": [
        "rating.head()"
      ],
      "execution_count": null,
      "outputs": [
        {
          "output_type": "execute_result",
          "data": {
            "text/html": [
              "<div>\n",
              "<style scoped>\n",
              "    .dataframe tbody tr th:only-of-type {\n",
              "        vertical-align: middle;\n",
              "    }\n",
              "\n",
              "    .dataframe tbody tr th {\n",
              "        vertical-align: top;\n",
              "    }\n",
              "\n",
              "    .dataframe thead th {\n",
              "        text-align: right;\n",
              "    }\n",
              "</style>\n",
              "<table border=\"1\" class=\"dataframe\">\n",
              "  <thead>\n",
              "    <tr style=\"text-align: right;\">\n",
              "      <th></th>\n",
              "      <th>user_id</th>\n",
              "      <th>anime_id</th>\n",
              "      <th>rating</th>\n",
              "    </tr>\n",
              "  </thead>\n",
              "  <tbody>\n",
              "    <tr>\n",
              "      <th>0</th>\n",
              "      <td>1</td>\n",
              "      <td>20</td>\n",
              "      <td>-1</td>\n",
              "    </tr>\n",
              "    <tr>\n",
              "      <th>1</th>\n",
              "      <td>1</td>\n",
              "      <td>24</td>\n",
              "      <td>-1</td>\n",
              "    </tr>\n",
              "    <tr>\n",
              "      <th>2</th>\n",
              "      <td>1</td>\n",
              "      <td>79</td>\n",
              "      <td>-1</td>\n",
              "    </tr>\n",
              "    <tr>\n",
              "      <th>3</th>\n",
              "      <td>1</td>\n",
              "      <td>226</td>\n",
              "      <td>-1</td>\n",
              "    </tr>\n",
              "    <tr>\n",
              "      <th>4</th>\n",
              "      <td>1</td>\n",
              "      <td>241</td>\n",
              "      <td>-1</td>\n",
              "    </tr>\n",
              "  </tbody>\n",
              "</table>\n",
              "</div>"
            ],
            "text/plain": [
              "   user_id  anime_id  rating\n",
              "0        1        20      -1\n",
              "1        1        24      -1\n",
              "2        1        79      -1\n",
              "3        1       226      -1\n",
              "4        1       241      -1"
            ]
          },
          "metadata": {
            "tags": []
          },
          "execution_count": 3
        }
      ]
    },
    {
      "cell_type": "code",
      "metadata": {
        "colab": {
          "base_uri": "https://localhost:8080/",
          "height": 284
        },
        "id": "AMcsnXf5_dcs",
        "outputId": "61a10d5a-2c9b-477f-cb79-3f0a79e893a9"
      },
      "source": [
        "anime.describe()"
      ],
      "execution_count": null,
      "outputs": [
        {
          "output_type": "execute_result",
          "data": {
            "text/html": [
              "<div>\n",
              "<style scoped>\n",
              "    .dataframe tbody tr th:only-of-type {\n",
              "        vertical-align: middle;\n",
              "    }\n",
              "\n",
              "    .dataframe tbody tr th {\n",
              "        vertical-align: top;\n",
              "    }\n",
              "\n",
              "    .dataframe thead th {\n",
              "        text-align: right;\n",
              "    }\n",
              "</style>\n",
              "<table border=\"1\" class=\"dataframe\">\n",
              "  <thead>\n",
              "    <tr style=\"text-align: right;\">\n",
              "      <th></th>\n",
              "      <th>anime_id</th>\n",
              "      <th>rating</th>\n",
              "      <th>members</th>\n",
              "    </tr>\n",
              "  </thead>\n",
              "  <tbody>\n",
              "    <tr>\n",
              "      <th>count</th>\n",
              "      <td>12294.000000</td>\n",
              "      <td>12064.000000</td>\n",
              "      <td>1.229400e+04</td>\n",
              "    </tr>\n",
              "    <tr>\n",
              "      <th>mean</th>\n",
              "      <td>14058.221653</td>\n",
              "      <td>6.473902</td>\n",
              "      <td>1.807134e+04</td>\n",
              "    </tr>\n",
              "    <tr>\n",
              "      <th>std</th>\n",
              "      <td>11455.294701</td>\n",
              "      <td>1.026746</td>\n",
              "      <td>5.482068e+04</td>\n",
              "    </tr>\n",
              "    <tr>\n",
              "      <th>min</th>\n",
              "      <td>1.000000</td>\n",
              "      <td>1.670000</td>\n",
              "      <td>5.000000e+00</td>\n",
              "    </tr>\n",
              "    <tr>\n",
              "      <th>25%</th>\n",
              "      <td>3484.250000</td>\n",
              "      <td>5.880000</td>\n",
              "      <td>2.250000e+02</td>\n",
              "    </tr>\n",
              "    <tr>\n",
              "      <th>50%</th>\n",
              "      <td>10260.500000</td>\n",
              "      <td>6.570000</td>\n",
              "      <td>1.550000e+03</td>\n",
              "    </tr>\n",
              "    <tr>\n",
              "      <th>75%</th>\n",
              "      <td>24794.500000</td>\n",
              "      <td>7.180000</td>\n",
              "      <td>9.437000e+03</td>\n",
              "    </tr>\n",
              "    <tr>\n",
              "      <th>max</th>\n",
              "      <td>34527.000000</td>\n",
              "      <td>10.000000</td>\n",
              "      <td>1.013917e+06</td>\n",
              "    </tr>\n",
              "  </tbody>\n",
              "</table>\n",
              "</div>"
            ],
            "text/plain": [
              "           anime_id        rating       members\n",
              "count  12294.000000  12064.000000  1.229400e+04\n",
              "mean   14058.221653      6.473902  1.807134e+04\n",
              "std    11455.294701      1.026746  5.482068e+04\n",
              "min        1.000000      1.670000  5.000000e+00\n",
              "25%     3484.250000      5.880000  2.250000e+02\n",
              "50%    10260.500000      6.570000  1.550000e+03\n",
              "75%    24794.500000      7.180000  9.437000e+03\n",
              "max    34527.000000     10.000000  1.013917e+06"
            ]
          },
          "metadata": {
            "tags": []
          },
          "execution_count": 4
        }
      ]
    },
    {
      "cell_type": "code",
      "metadata": {
        "colab": {
          "base_uri": "https://localhost:8080/",
          "height": 284
        },
        "id": "BqU_1NVi_xiP",
        "outputId": "b8e5f4b7-9587-4877-d5dd-5afc95403ad4"
      },
      "source": [
        "rating.describe()"
      ],
      "execution_count": null,
      "outputs": [
        {
          "output_type": "execute_result",
          "data": {
            "text/html": [
              "<div>\n",
              "<style scoped>\n",
              "    .dataframe tbody tr th:only-of-type {\n",
              "        vertical-align: middle;\n",
              "    }\n",
              "\n",
              "    .dataframe tbody tr th {\n",
              "        vertical-align: top;\n",
              "    }\n",
              "\n",
              "    .dataframe thead th {\n",
              "        text-align: right;\n",
              "    }\n",
              "</style>\n",
              "<table border=\"1\" class=\"dataframe\">\n",
              "  <thead>\n",
              "    <tr style=\"text-align: right;\">\n",
              "      <th></th>\n",
              "      <th>user_id</th>\n",
              "      <th>anime_id</th>\n",
              "      <th>rating</th>\n",
              "    </tr>\n",
              "  </thead>\n",
              "  <tbody>\n",
              "    <tr>\n",
              "      <th>count</th>\n",
              "      <td>7.813737e+06</td>\n",
              "      <td>7.813737e+06</td>\n",
              "      <td>7.813737e+06</td>\n",
              "    </tr>\n",
              "    <tr>\n",
              "      <th>mean</th>\n",
              "      <td>3.672796e+04</td>\n",
              "      <td>8.909072e+03</td>\n",
              "      <td>6.144030e+00</td>\n",
              "    </tr>\n",
              "    <tr>\n",
              "      <th>std</th>\n",
              "      <td>2.099795e+04</td>\n",
              "      <td>8.883950e+03</td>\n",
              "      <td>3.727800e+00</td>\n",
              "    </tr>\n",
              "    <tr>\n",
              "      <th>min</th>\n",
              "      <td>1.000000e+00</td>\n",
              "      <td>1.000000e+00</td>\n",
              "      <td>-1.000000e+00</td>\n",
              "    </tr>\n",
              "    <tr>\n",
              "      <th>25%</th>\n",
              "      <td>1.897400e+04</td>\n",
              "      <td>1.240000e+03</td>\n",
              "      <td>6.000000e+00</td>\n",
              "    </tr>\n",
              "    <tr>\n",
              "      <th>50%</th>\n",
              "      <td>3.679100e+04</td>\n",
              "      <td>6.213000e+03</td>\n",
              "      <td>7.000000e+00</td>\n",
              "    </tr>\n",
              "    <tr>\n",
              "      <th>75%</th>\n",
              "      <td>5.475700e+04</td>\n",
              "      <td>1.409300e+04</td>\n",
              "      <td>9.000000e+00</td>\n",
              "    </tr>\n",
              "    <tr>\n",
              "      <th>max</th>\n",
              "      <td>7.351600e+04</td>\n",
              "      <td>3.451900e+04</td>\n",
              "      <td>1.000000e+01</td>\n",
              "    </tr>\n",
              "  </tbody>\n",
              "</table>\n",
              "</div>"
            ],
            "text/plain": [
              "            user_id      anime_id        rating\n",
              "count  7.813737e+06  7.813737e+06  7.813737e+06\n",
              "mean   3.672796e+04  8.909072e+03  6.144030e+00\n",
              "std    2.099795e+04  8.883950e+03  3.727800e+00\n",
              "min    1.000000e+00  1.000000e+00 -1.000000e+00\n",
              "25%    1.897400e+04  1.240000e+03  6.000000e+00\n",
              "50%    3.679100e+04  6.213000e+03  7.000000e+00\n",
              "75%    5.475700e+04  1.409300e+04  9.000000e+00\n",
              "max    7.351600e+04  3.451900e+04  1.000000e+01"
            ]
          },
          "metadata": {
            "tags": []
          },
          "execution_count": 5
        }
      ]
    },
    {
      "cell_type": "code",
      "metadata": {
        "colab": {
          "base_uri": "https://localhost:8080/"
        },
        "id": "Hlr1RnotOZ7T",
        "outputId": "a55ee703-be77-42df-9bbf-1fd0a46f3dac"
      },
      "source": [
        "anime.shape, rating.shape"
      ],
      "execution_count": null,
      "outputs": [
        {
          "output_type": "execute_result",
          "data": {
            "text/plain": [
              "((12294, 7), (7813737, 3))"
            ]
          },
          "metadata": {
            "tags": []
          },
          "execution_count": 6
        }
      ]
    },
    {
      "cell_type": "markdown",
      "metadata": {
        "id": "TL05IIP4__oQ"
      },
      "source": [
        "Количество пользователей и аниме"
      ]
    },
    {
      "cell_type": "code",
      "metadata": {
        "id": "JIAq8Fo_ykUr",
        "colab": {
          "base_uri": "https://localhost:8080/"
        },
        "outputId": "948c36d2-853c-46d8-dd8f-fbac51488597"
      },
      "source": [
        "n_users = rating.user_id.unique().shape[0]\n",
        "n_items = rating.anime_id.unique().shape[0]\n",
        "n_users, n_items "
      ],
      "execution_count": null,
      "outputs": [
        {
          "output_type": "execute_result",
          "data": {
            "text/plain": [
              "(73515, 11200)"
            ]
          },
          "metadata": {
            "tags": []
          },
          "execution_count": 7
        }
      ]
    },
    {
      "cell_type": "code",
      "metadata": {
        "colab": {
          "base_uri": "https://localhost:8080/"
        },
        "id": "i6KZToZzB-1C",
        "outputId": "8027d56e-0d8c-474b-be54-de207d33e80c"
      },
      "source": [
        "anime.shape, rating.shape"
      ],
      "execution_count": null,
      "outputs": [
        {
          "output_type": "execute_result",
          "data": {
            "text/plain": [
              "((12294, 7), (7813737, 3))"
            ]
          },
          "metadata": {
            "tags": []
          },
          "execution_count": 8
        }
      ]
    },
    {
      "cell_type": "code",
      "metadata": {
        "colab": {
          "base_uri": "https://localhost:8080/",
          "height": 393
        },
        "id": "T6XxNx93CHCR",
        "outputId": "d3f063d6-1dbf-482e-fb36-451640247224"
      },
      "source": [
        "plt.figure(figsize=(8,6))\n",
        "sns.heatmap(anime.isnull())\n",
        "plt.title(\"Отсутствующие значения в 'anime'\", fontsize = 15)\n",
        "plt.show()"
      ],
      "execution_count": null,
      "outputs": [
        {
          "output_type": "display_data",
          "data": {
            "image/png": "[encoded data removed]",
            "text/plain": [
              "<Figure size 576x432 with 2 Axes>"
            ]
          },
          "metadata": {
            "tags": [],
            "needs_background": "light"
          }
        }
      ]
    },
    {
      "cell_type": "markdown",
      "metadata": {
        "id": "NvQeMtHxCj26"
      },
      "source": [
        "Из этого графика видно, что в столбцах \"genre\" и \"rating\" отсутствуют некоторые значения. Давайте рассмотрим их."
      ]
    },
    {
      "cell_type": "code",
      "metadata": {
        "colab": {
          "base_uri": "https://localhost:8080/"
        },
        "id": "XyEOWpbZD7cA",
        "outputId": "40e64ef7-4689-4bee-f3e1-b9e43423fe81"
      },
      "source": [
        "anime.isnull().sum()"
      ],
      "execution_count": null,
      "outputs": [
        {
          "output_type": "execute_result",
          "data": {
            "text/plain": [
              "anime_id      0\n",
              "name          0\n",
              "genre        62\n",
              "type         25\n",
              "episodes      0\n",
              "rating      230\n",
              "members       0\n",
              "dtype: int64"
            ]
          },
          "metadata": {
            "tags": []
          },
          "execution_count": 10
        }
      ]
    },
    {
      "cell_type": "code",
      "metadata": {
        "colab": {
          "base_uri": "https://localhost:8080/"
        },
        "id": "_dWfAiW6ECv2",
        "outputId": "6254b998-65cc-4311-b5e0-25495ef8a715"
      },
      "source": [
        "anime.type.value_counts()"
      ],
      "execution_count": null,
      "outputs": [
        {
          "output_type": "execute_result",
          "data": {
            "text/plain": [
              "TV         3787\n",
              "OVA        3311\n",
              "Movie      2348\n",
              "Special    1676\n",
              "ONA         659\n",
              "Music       488\n",
              "Name: type, dtype: int64"
            ]
          },
          "metadata": {
            "tags": []
          },
          "execution_count": 11
        }
      ]
    },
    {
      "cell_type": "code",
      "metadata": {
        "colab": {
          "base_uri": "https://localhost:8080/"
        },
        "id": "BDEGwowtEQ6K",
        "outputId": "a4b12fa9-6369-4cfa-8a73-cc4bd24bf3f2"
      },
      "source": [
        "anime.info()"
      ],
      "execution_count": null,
      "outputs": [
        {
          "output_type": "stream",
          "text": [
            "<class 'pandas.core.frame.DataFrame'>\n",
            "RangeIndex: 12294 entries, 0 to 12293\n",
            "Data columns (total 7 columns):\n",
            " #   Column    Non-Null Count  Dtype  \n",
            "---  ------    --------------  -----  \n",
            " 0   anime_id  12294 non-null  int64  \n",
            " 1   name      12294 non-null  object \n",
            " 2   genre     12232 non-null  object \n",
            " 3   type      12269 non-null  object \n",
            " 4   episodes  12294 non-null  object \n",
            " 5   rating    12064 non-null  float64\n",
            " 6   members   12294 non-null  int64  \n",
            "dtypes: float64(1), int64(2), object(4)\n",
            "memory usage: 672.5+ KB\n"
          ],
          "name": "stdout"
        }
      ]
    },
    {
      "cell_type": "code",
      "metadata": {
        "colab": {
          "base_uri": "https://localhost:8080/"
        },
        "id": "4l_NTeeQF9pC",
        "outputId": "c057ead0-3f9e-4f7a-9371-f7ecffb4c417"
      },
      "source": [
        "anime.fillna({'rating':0},inplace=True)\n",
        "anime.info()"
      ],
      "execution_count": null,
      "outputs": [
        {
          "output_type": "stream",
          "text": [
            "<class 'pandas.core.frame.DataFrame'>\n",
            "RangeIndex: 12294 entries, 0 to 12293\n",
            "Data columns (total 7 columns):\n",
            " #   Column    Non-Null Count  Dtype  \n",
            "---  ------    --------------  -----  \n",
            " 0   anime_id  12294 non-null  int64  \n",
            " 1   name      12294 non-null  object \n",
            " 2   genre     12232 non-null  object \n",
            " 3   type      12269 non-null  object \n",
            " 4   episodes  12294 non-null  object \n",
            " 5   rating    12294 non-null  float64\n",
            " 6   members   12294 non-null  int64  \n",
            "dtypes: float64(1), int64(2), object(4)\n",
            "memory usage: 672.5+ KB\n"
          ],
          "name": "stdout"
        }
      ]
    },
    {
      "cell_type": "code",
      "metadata": {
        "colab": {
          "base_uri": "https://localhost:8080/"
        },
        "id": "exzMlpoyKZc4",
        "outputId": "2c3f12d9-392e-45a4-ae73-a333483ac9e1"
      },
      "source": [
        "anime.rating.value_counts()"
      ],
      "execution_count": null,
      "outputs": [
        {
          "output_type": "execute_result",
          "data": {
            "text/plain": [
              "0.00    230\n",
              "6.00    141\n",
              "7.00     99\n",
              "6.50     90\n",
              "6.25     84\n",
              "       ... \n",
              "3.35      1\n",
              "3.14      1\n",
              "3.28      1\n",
              "8.66      1\n",
              "9.15      1\n",
              "Name: rating, Length: 599, dtype: int64"
            ]
          },
          "metadata": {
            "tags": []
          },
          "execution_count": 14
        }
      ]
    },
    {
      "cell_type": "code",
      "metadata": {
        "colab": {
          "base_uri": "https://localhost:8080/"
        },
        "id": "BQsrSZT6GyIB",
        "outputId": "84c8b1de-4431-48b3-95de-4d15f196eaa0"
      },
      "source": [
        "anime.isnull().sum()"
      ],
      "execution_count": null,
      "outputs": [
        {
          "output_type": "execute_result",
          "data": {
            "text/plain": [
              "anime_id     0\n",
              "name         0\n",
              "genre       62\n",
              "type        25\n",
              "episodes     0\n",
              "rating       0\n",
              "members      0\n",
              "dtype: int64"
            ]
          },
          "metadata": {
            "tags": []
          },
          "execution_count": 15
        }
      ]
    },
    {
      "cell_type": "code",
      "metadata": {
        "colab": {
          "base_uri": "https://localhost:8080/"
        },
        "id": "yltgqsrLM1zw",
        "outputId": "ef5a36c3-6b0a-4842-dad0-934316c856c4"
      },
      "source": [
        "anime.type.value_counts()"
      ],
      "execution_count": null,
      "outputs": [
        {
          "output_type": "execute_result",
          "data": {
            "text/plain": [
              "TV         3787\n",
              "OVA        3311\n",
              "Movie      2348\n",
              "Special    1676\n",
              "ONA         659\n",
              "Music       488\n",
              "Name: type, dtype: int64"
            ]
          },
          "metadata": {
            "tags": []
          },
          "execution_count": 16
        }
      ]
    },
    {
      "cell_type": "markdown",
      "metadata": {
        "id": "PHs-JqLCNSQR"
      },
      "source": [
        "Заполним пустые поля значением \"TV\", т.к. она является чаще всего встречающимся значением."
      ]
    },
    {
      "cell_type": "code",
      "metadata": {
        "colab": {
          "base_uri": "https://localhost:8080/"
        },
        "id": "eH-s8TCBKFv9",
        "outputId": "84377714-067b-43f2-b6b8-1c9cfcebac1f"
      },
      "source": [
        "anime.fillna({'type':\"TV\"},inplace=True)\n",
        "anime.info()"
      ],
      "execution_count": null,
      "outputs": [
        {
          "output_type": "stream",
          "text": [
            "<class 'pandas.core.frame.DataFrame'>\n",
            "RangeIndex: 12294 entries, 0 to 12293\n",
            "Data columns (total 7 columns):\n",
            " #   Column    Non-Null Count  Dtype  \n",
            "---  ------    --------------  -----  \n",
            " 0   anime_id  12294 non-null  int64  \n",
            " 1   name      12294 non-null  object \n",
            " 2   genre     12232 non-null  object \n",
            " 3   type      12294 non-null  object \n",
            " 4   episodes  12294 non-null  object \n",
            " 5   rating    12294 non-null  float64\n",
            " 6   members   12294 non-null  int64  \n",
            "dtypes: float64(1), int64(2), object(4)\n",
            "memory usage: 672.5+ KB\n"
          ],
          "name": "stdout"
        }
      ]
    },
    {
      "cell_type": "code",
      "metadata": {
        "colab": {
          "base_uri": "https://localhost:8080/"
        },
        "id": "rmjV6iz4KWJx",
        "outputId": "d0754265-6739-4bf3-d2c8-73f54c409a2f"
      },
      "source": [
        "anime.type.value_counts()"
      ],
      "execution_count": null,
      "outputs": [
        {
          "output_type": "execute_result",
          "data": {
            "text/plain": [
              "TV         3812\n",
              "OVA        3311\n",
              "Movie      2348\n",
              "Special    1676\n",
              "ONA         659\n",
              "Music       488\n",
              "Name: type, dtype: int64"
            ]
          },
          "metadata": {
            "tags": []
          },
          "execution_count": 18
        }
      ]
    },
    {
      "cell_type": "code",
      "metadata": {
        "colab": {
          "base_uri": "https://localhost:8080/"
        },
        "id": "BDzIeETNKixp",
        "outputId": "1dc5f050-ef3a-40d9-b0a1-69993bec3955"
      },
      "source": [
        "anime.isnull().sum()"
      ],
      "execution_count": null,
      "outputs": [
        {
          "output_type": "execute_result",
          "data": {
            "text/plain": [
              "anime_id     0\n",
              "name         0\n",
              "genre       62\n",
              "type         0\n",
              "episodes     0\n",
              "rating       0\n",
              "members      0\n",
              "dtype: int64"
            ]
          },
          "metadata": {
            "tags": []
          },
          "execution_count": 19
        }
      ]
    },
    {
      "cell_type": "code",
      "metadata": {
        "colab": {
          "base_uri": "https://localhost:8080/"
        },
        "id": "3GOo3XsSKmzB",
        "outputId": "2f4a295a-3f81-48e8-ba29-2a3faede599b"
      },
      "source": [
        "anime.genre.value_counts()"
      ],
      "execution_count": null,
      "outputs": [
        {
          "output_type": "execute_result",
          "data": {
            "text/plain": [
              "Hentai                                                               823\n",
              "Comedy                                                               523\n",
              "Music                                                                301\n",
              "Kids                                                                 199\n",
              "Comedy, Slice of Life                                                179\n",
              "                                                                    ... \n",
              "Action, Comedy, Ecchi, School, Shounen, Super Power, Supernatural      1\n",
              "Fantasy, Magic, Music, Romance, School, Sci-Fi, Shoujo                 1\n",
              "Adventure, Historical, Samurai, Shounen                                1\n",
              "Adventure, Samurai, Sci-Fi, Shounen                                    1\n",
              "Action, Adventure, Comedy, Harem, Mecha, Sci-Fi                        1\n",
              "Name: genre, Length: 3264, dtype: int64"
            ]
          },
          "metadata": {
            "tags": []
          },
          "execution_count": 20
        }
      ]
    },
    {
      "cell_type": "markdown",
      "metadata": {
        "id": "iPOSlnxILN-y"
      },
      "source": [
        "Можно выбросить колонку \"genre\", т.к. как-то оптимально и правильно заполнить его очень сложно, даже если это возможно. Но давайте просто заполним пустые поля значением \"Unknown\"."
      ]
    },
    {
      "cell_type": "code",
      "metadata": {
        "colab": {
          "base_uri": "https://localhost:8080/"
        },
        "id": "iXjL_ua2LbJ9",
        "outputId": "b7d9136d-d23c-45a9-abe7-67b941d607ac"
      },
      "source": [
        "anime.fillna({'genre':\"Unknown\"},inplace=True)\n",
        "anime.info()"
      ],
      "execution_count": null,
      "outputs": [
        {
          "output_type": "stream",
          "text": [
            "<class 'pandas.core.frame.DataFrame'>\n",
            "RangeIndex: 12294 entries, 0 to 12293\n",
            "Data columns (total 7 columns):\n",
            " #   Column    Non-Null Count  Dtype  \n",
            "---  ------    --------------  -----  \n",
            " 0   anime_id  12294 non-null  int64  \n",
            " 1   name      12294 non-null  object \n",
            " 2   genre     12294 non-null  object \n",
            " 3   type      12294 non-null  object \n",
            " 4   episodes  12294 non-null  object \n",
            " 5   rating    12294 non-null  float64\n",
            " 6   members   12294 non-null  int64  \n",
            "dtypes: float64(1), int64(2), object(4)\n",
            "memory usage: 672.5+ KB\n"
          ],
          "name": "stdout"
        }
      ]
    },
    {
      "cell_type": "code",
      "metadata": {
        "colab": {
          "base_uri": "https://localhost:8080/"
        },
        "id": "5TjPkoXQNyff",
        "outputId": "32c505fd-5ccb-43ad-abe3-1b7c6c4b58ab"
      },
      "source": [
        "anime.isnull().sum()"
      ],
      "execution_count": null,
      "outputs": [
        {
          "output_type": "execute_result",
          "data": {
            "text/plain": [
              "anime_id    0\n",
              "name        0\n",
              "genre       0\n",
              "type        0\n",
              "episodes    0\n",
              "rating      0\n",
              "members     0\n",
              "dtype: int64"
            ]
          },
          "metadata": {
            "tags": []
          },
          "execution_count": 22
        }
      ]
    },
    {
      "cell_type": "code",
      "metadata": {
        "colab": {
          "base_uri": "https://localhost:8080/",
          "height": 393
        },
        "id": "neA-FGWKgAMy",
        "outputId": "24151e68-8fbf-417f-fab0-8be03e78f845"
      },
      "source": [
        "plt.figure(figsize=(8,6))\n",
        "sns.heatmap(anime.isnull())\n",
        "plt.title(\"Отсутствующие значения в 'anime'\", fontsize = 15)\n",
        "plt.show()"
      ],
      "execution_count": null,
      "outputs": [
        {
          "output_type": "display_data",
          "data": {
            "image/png": "[encoded data removed]",
            "text/plain": [
              "<Figure size 576x432 with 2 Axes>"
            ]
          },
          "metadata": {
            "tags": [],
            "needs_background": "light"
          }
        }
      ]
    },
    {
      "cell_type": "markdown",
      "metadata": {
        "id": "5YBo6GN5ODBr"
      },
      "source": [
        "Как видим все заполнилось, но давайте глубже проанализируем, т.к. могут быть значения, которые нам не будут удовлетворять."
      ]
    },
    {
      "cell_type": "code",
      "metadata": {
        "colab": {
          "base_uri": "https://localhost:8080/"
        },
        "id": "2We05XO5N1ff",
        "outputId": "bb24d507-3189-4afd-85b1-ed56d9c24eb6"
      },
      "source": [
        "anime.info()"
      ],
      "execution_count": null,
      "outputs": [
        {
          "output_type": "stream",
          "text": [
            "<class 'pandas.core.frame.DataFrame'>\n",
            "RangeIndex: 12294 entries, 0 to 12293\n",
            "Data columns (total 7 columns):\n",
            " #   Column    Non-Null Count  Dtype  \n",
            "---  ------    --------------  -----  \n",
            " 0   anime_id  12294 non-null  int64  \n",
            " 1   name      12294 non-null  object \n",
            " 2   genre     12294 non-null  object \n",
            " 3   type      12294 non-null  object \n",
            " 4   episodes  12294 non-null  object \n",
            " 5   rating    12294 non-null  float64\n",
            " 6   members   12294 non-null  int64  \n",
            "dtypes: float64(1), int64(2), object(4)\n",
            "memory usage: 672.5+ KB\n"
          ],
          "name": "stdout"
        }
      ]
    },
    {
      "cell_type": "markdown",
      "metadata": {
        "id": "_1D5EFYLOJal"
      },
      "source": [
        "Начнем с категориальных колонок (\"object\")."
      ]
    },
    {
      "cell_type": "code",
      "metadata": {
        "colab": {
          "base_uri": "https://localhost:8080/"
        },
        "id": "Bi2LdT5wOO1y",
        "outputId": "daf76606-e910-44f0-9793-b94396aa2b16"
      },
      "source": [
        "categorical_columns = [x for x in anime.columns if anime[x].dtype == 'object']\n",
        "categorical_columns"
      ],
      "execution_count": null,
      "outputs": [
        {
          "output_type": "execute_result",
          "data": {
            "text/plain": [
              "['name', 'genre', 'type', 'episodes']"
            ]
          },
          "metadata": {
            "tags": []
          },
          "execution_count": 25
        }
      ]
    },
    {
      "cell_type": "code",
      "metadata": {
        "colab": {
          "base_uri": "https://localhost:8080/"
        },
        "id": "RzFbvwZWOrEc",
        "outputId": "028b86a9-2646-4675-d86e-6ac921b8566d"
      },
      "source": [
        "anime.name.value_counts()"
      ],
      "execution_count": null,
      "outputs": [
        {
          "output_type": "execute_result",
          "data": {
            "text/plain": [
              "Saru Kani Gassen                               2\n",
              "Shi Wan Ge Leng Xiaohua                        2\n",
              "X                                              1\n",
              "Secret Journey                                 1\n",
              "Ryou Seibai!: Gakuen Bishoujo Seisai Hiroku    1\n",
              "                                              ..\n",
              "Shin Kachikachi Yama                           1\n",
              "Eddie the Fast Break                           1\n",
              "Fen Qing                                       1\n",
              "Kanojo wa Dare to demo Sex Suru.               1\n",
              "Hakuouki Movie 2: Shikon Soukyuu               1\n",
              "Name: name, Length: 12292, dtype: int64"
            ]
          },
          "metadata": {
            "tags": []
          },
          "execution_count": 26
        }
      ]
    },
    {
      "cell_type": "code",
      "metadata": {
        "colab": {
          "base_uri": "https://localhost:8080/"
        },
        "id": "mURuoAUsO5yd",
        "outputId": "9f1e6ba2-ef07-4b87-c375-ac5bfc1dd34a"
      },
      "source": [
        "anime.genre.value_counts()"
      ],
      "execution_count": null,
      "outputs": [
        {
          "output_type": "execute_result",
          "data": {
            "text/plain": [
              "Hentai                                                       823\n",
              "Comedy                                                       523\n",
              "Music                                                        301\n",
              "Kids                                                         199\n",
              "Comedy, Slice of Life                                        179\n",
              "                                                            ... \n",
              "Action, Drama, Mecha, Military, Police, Sci-Fi, Shounen        1\n",
              "Adventure, Comedy, Drama, Martial Arts, Samurai, Shounen       1\n",
              "Action, Comedy, Martial Arts, Seinen                           1\n",
              "Mystery, Psychological, Supernatural, Thriller                 1\n",
              "Action, Demons, Ecchi, Horror, Mecha, Sci-Fi, Super Power      1\n",
              "Name: genre, Length: 3265, dtype: int64"
            ]
          },
          "metadata": {
            "tags": []
          },
          "execution_count": 27
        }
      ]
    },
    {
      "cell_type": "code",
      "metadata": {
        "colab": {
          "base_uri": "https://localhost:8080/"
        },
        "id": "K9KWA4OJPDNA",
        "outputId": "f03867c6-1943-42b8-c381-d126bc315df1"
      },
      "source": [
        "anime.type.value_counts()"
      ],
      "execution_count": null,
      "outputs": [
        {
          "output_type": "execute_result",
          "data": {
            "text/plain": [
              "TV         3812\n",
              "OVA        3311\n",
              "Movie      2348\n",
              "Special    1676\n",
              "ONA         659\n",
              "Music       488\n",
              "Name: type, dtype: int64"
            ]
          },
          "metadata": {
            "tags": []
          },
          "execution_count": 28
        }
      ]
    },
    {
      "cell_type": "code",
      "metadata": {
        "colab": {
          "base_uri": "https://localhost:8080/"
        },
        "id": "VWHdXn8ISrYP",
        "outputId": "4863e923-78d3-46d2-eec8-22cd8c369bae"
      },
      "source": [
        "anime = pd.get_dummies(anime, columns=['type'])\n",
        "anime.info()"
      ],
      "execution_count": null,
      "outputs": [
        {
          "output_type": "stream",
          "text": [
            "<class 'pandas.core.frame.DataFrame'>\n",
            "RangeIndex: 12294 entries, 0 to 12293\n",
            "Data columns (total 12 columns):\n",
            " #   Column        Non-Null Count  Dtype  \n",
            "---  ------        --------------  -----  \n",
            " 0   anime_id      12294 non-null  int64  \n",
            " 1   name          12294 non-null  object \n",
            " 2   genre         12294 non-null  object \n",
            " 3   episodes      12294 non-null  object \n",
            " 4   rating        12294 non-null  float64\n",
            " 5   members       12294 non-null  int64  \n",
            " 6   type_Movie    12294 non-null  uint8  \n",
            " 7   type_Music    12294 non-null  uint8  \n",
            " 8   type_ONA      12294 non-null  uint8  \n",
            " 9   type_OVA      12294 non-null  uint8  \n",
            " 10  type_Special  12294 non-null  uint8  \n",
            " 11  type_TV       12294 non-null  uint8  \n",
            "dtypes: float64(1), int64(2), object(3), uint8(6)\n",
            "memory usage: 648.4+ KB\n"
          ],
          "name": "stdout"
        }
      ]
    },
    {
      "cell_type": "code",
      "metadata": {
        "colab": {
          "base_uri": "https://localhost:8080/",
          "height": 195
        },
        "id": "EEVIWC3QVghN",
        "outputId": "ce4ba6f2-c776-470a-d39c-84b3895b0226"
      },
      "source": [
        "anime.head()"
      ],
      "execution_count": null,
      "outputs": [
        {
          "output_type": "execute_result",
          "data": {
            "text/html": [
              "<div>\n",
              "<style scoped>\n",
              "    .dataframe tbody tr th:only-of-type {\n",
              "        vertical-align: middle;\n",
              "    }\n",
              "\n",
              "    .dataframe tbody tr th {\n",
              "        vertical-align: top;\n",
              "    }\n",
              "\n",
              "    .dataframe thead th {\n",
              "        text-align: right;\n",
              "    }\n",
              "</style>\n",
              "<table border=\"1\" class=\"dataframe\">\n",
              "  <thead>\n",
              "    <tr style=\"text-align: right;\">\n",
              "      <th></th>\n",
              "      <th>anime_id</th>\n",
              "      <th>name</th>\n",
              "      <th>genre</th>\n",
              "      <th>episodes</th>\n",
              "      <th>rating</th>\n",
              "      <th>members</th>\n",
              "      <th>type_Movie</th>\n",
              "      <th>type_Music</th>\n",
              "      <th>type_ONA</th>\n",
              "      <th>type_OVA</th>\n",
              "      <th>type_Special</th>\n",
              "      <th>type_TV</th>\n",
              "    </tr>\n",
              "  </thead>\n",
              "  <tbody>\n",
              "    <tr>\n",
              "      <th>0</th>\n",
              "      <td>32281</td>\n",
              "      <td>Kimi no Na wa.</td>\n",
              "      <td>Drama, Romance, School, Supernatural</td>\n",
              "      <td>1</td>\n",
              "      <td>9.37</td>\n",
              "      <td>200630</td>\n",
              "      <td>1</td>\n",
              "      <td>0</td>\n",
              "      <td>0</td>\n",
              "      <td>0</td>\n",
              "      <td>0</td>\n",
              "      <td>0</td>\n",
              "    </tr>\n",
              "    <tr>\n",
              "      <th>1</th>\n",
              "      <td>5114</td>\n",
              "      <td>Fullmetal Alchemist: Brotherhood</td>\n",
              "      <td>Action, Adventure, Drama, Fantasy, Magic, Mili...</td>\n",
              "      <td>64</td>\n",
              "      <td>9.26</td>\n",
              "      <td>793665</td>\n",
              "      <td>0</td>\n",
              "      <td>0</td>\n",
              "      <td>0</td>\n",
              "      <td>0</td>\n",
              "      <td>0</td>\n",
              "      <td>1</td>\n",
              "    </tr>\n",
              "    <tr>\n",
              "      <th>2</th>\n",
              "      <td>28977</td>\n",
              "      <td>Gintama°</td>\n",
              "      <td>Action, Comedy, Historical, Parody, Samurai, S...</td>\n",
              "      <td>51</td>\n",
              "      <td>9.25</td>\n",
              "      <td>114262</td>\n",
              "      <td>0</td>\n",
              "      <td>0</td>\n",
              "      <td>0</td>\n",
              "      <td>0</td>\n",
              "      <td>0</td>\n",
              "      <td>1</td>\n",
              "    </tr>\n",
              "    <tr>\n",
              "      <th>3</th>\n",
              "      <td>9253</td>\n",
              "      <td>Steins;Gate</td>\n",
              "      <td>Sci-Fi, Thriller</td>\n",
              "      <td>24</td>\n",
              "      <td>9.17</td>\n",
              "      <td>673572</td>\n",
              "      <td>0</td>\n",
              "      <td>0</td>\n",
              "      <td>0</td>\n",
              "      <td>0</td>\n",
              "      <td>0</td>\n",
              "      <td>1</td>\n",
              "    </tr>\n",
              "    <tr>\n",
              "      <th>4</th>\n",
              "      <td>9969</td>\n",
              "      <td>Gintama&amp;#039;</td>\n",
              "      <td>Action, Comedy, Historical, Parody, Samurai, S...</td>\n",
              "      <td>51</td>\n",
              "      <td>9.16</td>\n",
              "      <td>151266</td>\n",
              "      <td>0</td>\n",
              "      <td>0</td>\n",
              "      <td>0</td>\n",
              "      <td>0</td>\n",
              "      <td>0</td>\n",
              "      <td>1</td>\n",
              "    </tr>\n",
              "  </tbody>\n",
              "</table>\n",
              "</div>"
            ],
            "text/plain": [
              "   anime_id                              name  ... type_Special type_TV\n",
              "0     32281                    Kimi no Na wa.  ...            0       0\n",
              "1      5114  Fullmetal Alchemist: Brotherhood  ...            0       1\n",
              "2     28977                          Gintama°  ...            0       1\n",
              "3      9253                       Steins;Gate  ...            0       1\n",
              "4      9969                     Gintama&#039;  ...            0       1\n",
              "\n",
              "[5 rows x 12 columns]"
            ]
          },
          "metadata": {
            "tags": []
          },
          "execution_count": 30
        }
      ]
    },
    {
      "cell_type": "code",
      "metadata": {
        "colab": {
          "base_uri": "https://localhost:8080/"
        },
        "id": "S_L5gQkAPGyt",
        "outputId": "778472fd-766f-446e-db2d-4a98073e6fa5"
      },
      "source": [
        "anime.episodes.value_counts()"
      ],
      "execution_count": null,
      "outputs": [
        {
          "output_type": "execute_result",
          "data": {
            "text/plain": [
              "1      5677\n",
              "2      1076\n",
              "12      816\n",
              "13      572\n",
              "26      514\n",
              "       ... \n",
              "193       1\n",
              "113       1\n",
              "67        1\n",
              "358       1\n",
              "694       1\n",
              "Name: episodes, Length: 187, dtype: int64"
            ]
          },
          "metadata": {
            "tags": []
          },
          "execution_count": 31
        }
      ]
    },
    {
      "cell_type": "code",
      "metadata": {
        "colab": {
          "base_uri": "https://localhost:8080/",
          "height": 427
        },
        "id": "13weaZIsXi-L",
        "outputId": "4401af2c-6943-4e0c-b0b4-3ab4212e26a2"
      },
      "source": [
        "for i in range(len(anime.episodes)):\n",
        "  if anime.episodes[i] == 'Unknown':\n",
        "    anime.episodes[i] = 0\n",
        "anime.tail(10)"
      ],
      "execution_count": null,
      "outputs": [
        {
          "output_type": "stream",
          "text": [
            "/usr/local/lib/python3.7/dist-packages/ipykernel_launcher.py:3: SettingWithCopyWarning: \n",
            "A value is trying to be set on a copy of a slice from a DataFrame\n",
            "\n",
            "See the caveats in the documentation: https://pandas.pydata.org/pandas-docs/stable/user_guide/indexing.html#returning-a-view-versus-a-copy\n",
            "  This is separate from the ipykernel package so we can avoid doing imports until\n"
          ],
          "name": "stderr"
        },
        {
          "output_type": "execute_result",
          "data": {
            "text/html": [
              "<div>\n",
              "<style scoped>\n",
              "    .dataframe tbody tr th:only-of-type {\n",
              "        vertical-align: middle;\n",
              "    }\n",
              "\n",
              "    .dataframe tbody tr th {\n",
              "        vertical-align: top;\n",
              "    }\n",
              "\n",
              "    .dataframe thead th {\n",
              "        text-align: right;\n",
              "    }\n",
              "</style>\n",
              "<table border=\"1\" class=\"dataframe\">\n",
              "  <thead>\n",
              "    <tr style=\"text-align: right;\">\n",
              "      <th></th>\n",
              "      <th>anime_id</th>\n",
              "      <th>name</th>\n",
              "      <th>genre</th>\n",
              "      <th>episodes</th>\n",
              "      <th>rating</th>\n",
              "      <th>members</th>\n",
              "      <th>type_Movie</th>\n",
              "      <th>type_Music</th>\n",
              "      <th>type_ONA</th>\n",
              "      <th>type_OVA</th>\n",
              "      <th>type_Special</th>\n",
              "      <th>type_TV</th>\n",
              "    </tr>\n",
              "  </thead>\n",
              "  <tbody>\n",
              "    <tr>\n",
              "      <th>12284</th>\n",
              "      <td>26031</td>\n",
              "      <td>Super Erotic Anime</td>\n",
              "      <td>Hentai</td>\n",
              "      <td>2</td>\n",
              "      <td>4.45</td>\n",
              "      <td>118</td>\n",
              "      <td>0</td>\n",
              "      <td>0</td>\n",
              "      <td>0</td>\n",
              "      <td>1</td>\n",
              "      <td>0</td>\n",
              "      <td>0</td>\n",
              "    </tr>\n",
              "    <tr>\n",
              "      <th>12285</th>\n",
              "      <td>34399</td>\n",
              "      <td>Taimanin Asagi 3</td>\n",
              "      <td>Demons, Hentai, Supernatural</td>\n",
              "      <td>0</td>\n",
              "      <td>0.00</td>\n",
              "      <td>485</td>\n",
              "      <td>0</td>\n",
              "      <td>0</td>\n",
              "      <td>0</td>\n",
              "      <td>1</td>\n",
              "      <td>0</td>\n",
              "      <td>0</td>\n",
              "    </tr>\n",
              "    <tr>\n",
              "      <th>12286</th>\n",
              "      <td>10368</td>\n",
              "      <td>Teleclub no Himitsu</td>\n",
              "      <td>Hentai</td>\n",
              "      <td>2</td>\n",
              "      <td>4.67</td>\n",
              "      <td>148</td>\n",
              "      <td>0</td>\n",
              "      <td>0</td>\n",
              "      <td>0</td>\n",
              "      <td>1</td>\n",
              "      <td>0</td>\n",
              "      <td>0</td>\n",
              "    </tr>\n",
              "    <tr>\n",
              "      <th>12287</th>\n",
              "      <td>9352</td>\n",
              "      <td>Tenshi no Habataki Jun</td>\n",
              "      <td>Hentai</td>\n",
              "      <td>1</td>\n",
              "      <td>4.33</td>\n",
              "      <td>201</td>\n",
              "      <td>0</td>\n",
              "      <td>0</td>\n",
              "      <td>0</td>\n",
              "      <td>1</td>\n",
              "      <td>0</td>\n",
              "      <td>0</td>\n",
              "    </tr>\n",
              "    <tr>\n",
              "      <th>12288</th>\n",
              "      <td>5541</td>\n",
              "      <td>The Satisfaction</td>\n",
              "      <td>Hentai</td>\n",
              "      <td>1</td>\n",
              "      <td>4.37</td>\n",
              "      <td>166</td>\n",
              "      <td>0</td>\n",
              "      <td>0</td>\n",
              "      <td>0</td>\n",
              "      <td>1</td>\n",
              "      <td>0</td>\n",
              "      <td>0</td>\n",
              "    </tr>\n",
              "    <tr>\n",
              "      <th>12289</th>\n",
              "      <td>9316</td>\n",
              "      <td>Toushindai My Lover: Minami tai Mecha-Minami</td>\n",
              "      <td>Hentai</td>\n",
              "      <td>1</td>\n",
              "      <td>4.15</td>\n",
              "      <td>211</td>\n",
              "      <td>0</td>\n",
              "      <td>0</td>\n",
              "      <td>0</td>\n",
              "      <td>1</td>\n",
              "      <td>0</td>\n",
              "      <td>0</td>\n",
              "    </tr>\n",
              "    <tr>\n",
              "      <th>12290</th>\n",
              "      <td>5543</td>\n",
              "      <td>Under World</td>\n",
              "      <td>Hentai</td>\n",
              "      <td>1</td>\n",
              "      <td>4.28</td>\n",
              "      <td>183</td>\n",
              "      <td>0</td>\n",
              "      <td>0</td>\n",
              "      <td>0</td>\n",
              "      <td>1</td>\n",
              "      <td>0</td>\n",
              "      <td>0</td>\n",
              "    </tr>\n",
              "    <tr>\n",
              "      <th>12291</th>\n",
              "      <td>5621</td>\n",
              "      <td>Violence Gekiga David no Hoshi</td>\n",
              "      <td>Hentai</td>\n",
              "      <td>4</td>\n",
              "      <td>4.88</td>\n",
              "      <td>219</td>\n",
              "      <td>0</td>\n",
              "      <td>0</td>\n",
              "      <td>0</td>\n",
              "      <td>1</td>\n",
              "      <td>0</td>\n",
              "      <td>0</td>\n",
              "    </tr>\n",
              "    <tr>\n",
              "      <th>12292</th>\n",
              "      <td>6133</td>\n",
              "      <td>Violence Gekiga Shin David no Hoshi: Inma Dens...</td>\n",
              "      <td>Hentai</td>\n",
              "      <td>1</td>\n",
              "      <td>4.98</td>\n",
              "      <td>175</td>\n",
              "      <td>0</td>\n",
              "      <td>0</td>\n",
              "      <td>0</td>\n",
              "      <td>1</td>\n",
              "      <td>0</td>\n",
              "      <td>0</td>\n",
              "    </tr>\n",
              "    <tr>\n",
              "      <th>12293</th>\n",
              "      <td>26081</td>\n",
              "      <td>Yasuji no Pornorama: Yacchimae!!</td>\n",
              "      <td>Hentai</td>\n",
              "      <td>1</td>\n",
              "      <td>5.46</td>\n",
              "      <td>142</td>\n",
              "      <td>1</td>\n",
              "      <td>0</td>\n",
              "      <td>0</td>\n",
              "      <td>0</td>\n",
              "      <td>0</td>\n",
              "      <td>0</td>\n",
              "    </tr>\n",
              "  </tbody>\n",
              "</table>\n",
              "</div>"
            ],
            "text/plain": [
              "       anime_id  ... type_TV\n",
              "12284     26031  ...       0\n",
              "12285     34399  ...       0\n",
              "12286     10368  ...       0\n",
              "12287      9352  ...       0\n",
              "12288      5541  ...       0\n",
              "12289      9316  ...       0\n",
              "12290      5543  ...       0\n",
              "12291      5621  ...       0\n",
              "12292      6133  ...       0\n",
              "12293     26081  ...       0\n",
              "\n",
              "[10 rows x 12 columns]"
            ]
          },
          "metadata": {
            "tags": []
          },
          "execution_count": 32
        }
      ]
    },
    {
      "cell_type": "code",
      "metadata": {
        "colab": {
          "base_uri": "https://localhost:8080/"
        },
        "id": "rT6z805BZ4vR",
        "outputId": "fc28400a-6975-430f-97ec-3564158c333d"
      },
      "source": [
        "anime.info()"
      ],
      "execution_count": null,
      "outputs": [
        {
          "output_type": "stream",
          "text": [
            "<class 'pandas.core.frame.DataFrame'>\n",
            "RangeIndex: 12294 entries, 0 to 12293\n",
            "Data columns (total 12 columns):\n",
            " #   Column        Non-Null Count  Dtype  \n",
            "---  ------        --------------  -----  \n",
            " 0   anime_id      12294 non-null  int64  \n",
            " 1   name          12294 non-null  object \n",
            " 2   genre         12294 non-null  object \n",
            " 3   episodes      12294 non-null  object \n",
            " 4   rating        12294 non-null  float64\n",
            " 5   members       12294 non-null  int64  \n",
            " 6   type_Movie    12294 non-null  uint8  \n",
            " 7   type_Music    12294 non-null  uint8  \n",
            " 8   type_ONA      12294 non-null  uint8  \n",
            " 9   type_OVA      12294 non-null  uint8  \n",
            " 10  type_Special  12294 non-null  uint8  \n",
            " 11  type_TV       12294 non-null  uint8  \n",
            "dtypes: float64(1), int64(2), object(3), uint8(6)\n",
            "memory usage: 648.4+ KB\n"
          ],
          "name": "stdout"
        }
      ]
    },
    {
      "cell_type": "code",
      "metadata": {
        "id": "7sWhX7zxekbu"
      },
      "source": [
        "anime.episodes = anime.episodes.astype('int64')"
      ],
      "execution_count": null,
      "outputs": []
    },
    {
      "cell_type": "code",
      "metadata": {
        "colab": {
          "base_uri": "https://localhost:8080/"
        },
        "id": "2THZ25Hje4G5",
        "outputId": "5f21452a-627e-4740-8422-a9cd3ee372b9"
      },
      "source": [
        "anime.info()"
      ],
      "execution_count": null,
      "outputs": [
        {
          "output_type": "stream",
          "text": [
            "<class 'pandas.core.frame.DataFrame'>\n",
            "RangeIndex: 12294 entries, 0 to 12293\n",
            "Data columns (total 12 columns):\n",
            " #   Column        Non-Null Count  Dtype  \n",
            "---  ------        --------------  -----  \n",
            " 0   anime_id      12294 non-null  int64  \n",
            " 1   name          12294 non-null  object \n",
            " 2   genre         12294 non-null  object \n",
            " 3   episodes      12294 non-null  int64  \n",
            " 4   rating        12294 non-null  float64\n",
            " 5   members       12294 non-null  int64  \n",
            " 6   type_Movie    12294 non-null  uint8  \n",
            " 7   type_Music    12294 non-null  uint8  \n",
            " 8   type_ONA      12294 non-null  uint8  \n",
            " 9   type_OVA      12294 non-null  uint8  \n",
            " 10  type_Special  12294 non-null  uint8  \n",
            " 11  type_TV       12294 non-null  uint8  \n",
            "dtypes: float64(1), int64(3), object(2), uint8(6)\n",
            "memory usage: 648.4+ KB\n"
          ],
          "name": "stdout"
        }
      ]
    },
    {
      "cell_type": "code",
      "metadata": {
        "colab": {
          "base_uri": "https://localhost:8080/"
        },
        "id": "CjJxCuyXe9dy",
        "outputId": "193c6659-7300-4bc7-95c2-b9f13b741132"
      },
      "source": [
        "anime = anime.drop([\"genre\"], axis = 1)\n",
        "anime.info()"
      ],
      "execution_count": null,
      "outputs": [
        {
          "output_type": "stream",
          "text": [
            "<class 'pandas.core.frame.DataFrame'>\n",
            "RangeIndex: 12294 entries, 0 to 12293\n",
            "Data columns (total 11 columns):\n",
            " #   Column        Non-Null Count  Dtype  \n",
            "---  ------        --------------  -----  \n",
            " 0   anime_id      12294 non-null  int64  \n",
            " 1   name          12294 non-null  object \n",
            " 2   episodes      12294 non-null  int64  \n",
            " 3   rating        12294 non-null  float64\n",
            " 4   members       12294 non-null  int64  \n",
            " 5   type_Movie    12294 non-null  uint8  \n",
            " 6   type_Music    12294 non-null  uint8  \n",
            " 7   type_ONA      12294 non-null  uint8  \n",
            " 8   type_OVA      12294 non-null  uint8  \n",
            " 9   type_Special  12294 non-null  uint8  \n",
            " 10  type_TV       12294 non-null  uint8  \n",
            "dtypes: float64(1), int64(3), object(1), uint8(6)\n",
            "memory usage: 552.4+ KB\n"
          ],
          "name": "stdout"
        }
      ]
    },
    {
      "cell_type": "code",
      "metadata": {
        "colab": {
          "base_uri": "https://localhost:8080/"
        },
        "id": "3iL24WOwgGQW",
        "outputId": "0ef403e5-b344-40e1-f4d8-f797b4f49d7e"
      },
      "source": [
        "anime = anime.drop([\"name\"], axis = 1)\n",
        "anime.info()"
      ],
      "execution_count": null,
      "outputs": [
        {
          "output_type": "stream",
          "text": [
            "<class 'pandas.core.frame.DataFrame'>\n",
            "RangeIndex: 12294 entries, 0 to 12293\n",
            "Data columns (total 10 columns):\n",
            " #   Column        Non-Null Count  Dtype  \n",
            "---  ------        --------------  -----  \n",
            " 0   anime_id      12294 non-null  int64  \n",
            " 1   episodes      12294 non-null  int64  \n",
            " 2   rating        12294 non-null  float64\n",
            " 3   members       12294 non-null  int64  \n",
            " 4   type_Movie    12294 non-null  uint8  \n",
            " 5   type_Music    12294 non-null  uint8  \n",
            " 6   type_ONA      12294 non-null  uint8  \n",
            " 7   type_OVA      12294 non-null  uint8  \n",
            " 8   type_Special  12294 non-null  uint8  \n",
            " 9   type_TV       12294 non-null  uint8  \n",
            "dtypes: float64(1), int64(3), uint8(6)\n",
            "memory usage: 456.3 KB\n"
          ],
          "name": "stdout"
        }
      ]
    },
    {
      "cell_type": "markdown",
      "metadata": {
        "id": "KNtvPsjXqrBm"
      },
      "source": [
        "**Проанализируем \"rating\"**"
      ]
    },
    {
      "cell_type": "code",
      "metadata": {
        "colab": {
          "base_uri": "https://localhost:8080/"
        },
        "id": "hrA16KDBgtEM",
        "outputId": "c1dc6845-f939-467d-e61a-23cb0bd40317"
      },
      "source": [
        "rating.info()"
      ],
      "execution_count": null,
      "outputs": [
        {
          "output_type": "stream",
          "text": [
            "<class 'pandas.core.frame.DataFrame'>\n",
            "RangeIndex: 7813737 entries, 0 to 7813736\n",
            "Data columns (total 3 columns):\n",
            " #   Column    Dtype\n",
            "---  ------    -----\n",
            " 0   user_id   int64\n",
            " 1   anime_id  int64\n",
            " 2   rating    int64\n",
            "dtypes: int64(3)\n",
            "memory usage: 178.8 MB\n"
          ],
          "name": "stdout"
        }
      ]
    },
    {
      "cell_type": "code",
      "metadata": {
        "colab": {
          "base_uri": "https://localhost:8080/",
          "height": 195
        },
        "id": "kAcu2TOmk2GY",
        "outputId": "ea583dec-3e16-48ea-aa74-e66d8e86f069"
      },
      "source": [
        "rating.head()"
      ],
      "execution_count": null,
      "outputs": [
        {
          "output_type": "execute_result",
          "data": {
            "text/html": [
              "<div>\n",
              "<style scoped>\n",
              "    .dataframe tbody tr th:only-of-type {\n",
              "        vertical-align: middle;\n",
              "    }\n",
              "\n",
              "    .dataframe tbody tr th {\n",
              "        vertical-align: top;\n",
              "    }\n",
              "\n",
              "    .dataframe thead th {\n",
              "        text-align: right;\n",
              "    }\n",
              "</style>\n",
              "<table border=\"1\" class=\"dataframe\">\n",
              "  <thead>\n",
              "    <tr style=\"text-align: right;\">\n",
              "      <th></th>\n",
              "      <th>user_id</th>\n",
              "      <th>anime_id</th>\n",
              "      <th>rating</th>\n",
              "    </tr>\n",
              "  </thead>\n",
              "  <tbody>\n",
              "    <tr>\n",
              "      <th>0</th>\n",
              "      <td>1</td>\n",
              "      <td>20</td>\n",
              "      <td>-1</td>\n",
              "    </tr>\n",
              "    <tr>\n",
              "      <th>1</th>\n",
              "      <td>1</td>\n",
              "      <td>24</td>\n",
              "      <td>-1</td>\n",
              "    </tr>\n",
              "    <tr>\n",
              "      <th>2</th>\n",
              "      <td>1</td>\n",
              "      <td>79</td>\n",
              "      <td>-1</td>\n",
              "    </tr>\n",
              "    <tr>\n",
              "      <th>3</th>\n",
              "      <td>1</td>\n",
              "      <td>226</td>\n",
              "      <td>-1</td>\n",
              "    </tr>\n",
              "    <tr>\n",
              "      <th>4</th>\n",
              "      <td>1</td>\n",
              "      <td>241</td>\n",
              "      <td>-1</td>\n",
              "    </tr>\n",
              "  </tbody>\n",
              "</table>\n",
              "</div>"
            ],
            "text/plain": [
              "   user_id  anime_id  rating\n",
              "0        1        20      -1\n",
              "1        1        24      -1\n",
              "2        1        79      -1\n",
              "3        1       226      -1\n",
              "4        1       241      -1"
            ]
          },
          "metadata": {
            "tags": []
          },
          "execution_count": 39
        }
      ]
    },
    {
      "cell_type": "markdown",
      "metadata": {
        "id": "qiqTqzWlBVv8"
      },
      "source": [
        "Посмотрим столбец \"rating\" таблицы \"rating\""
      ]
    },
    {
      "cell_type": "code",
      "metadata": {
        "colab": {
          "base_uri": "https://localhost:8080/"
        },
        "id": "rAZxRXYiBI23",
        "outputId": "26b768e9-0ccf-4202-f303-cf489fd9905f"
      },
      "source": [
        "rating.rating.value_counts()"
      ],
      "execution_count": null,
      "outputs": [
        {
          "output_type": "execute_result",
          "data": {
            "text/plain": [
              " 8     1646019\n",
              "-1     1476496\n",
              " 7     1375287\n",
              " 9     1254096\n",
              " 10     955715\n",
              " 6      637775\n",
              " 5      282806\n",
              " 4      104291\n",
              " 3       41453\n",
              " 2       23150\n",
              " 1       16649\n",
              "Name: rating, dtype: int64"
            ]
          },
          "metadata": {
            "tags": []
          },
          "execution_count": 40
        }
      ]
    },
    {
      "cell_type": "markdown",
      "metadata": {
        "id": "aqzxpCjlATOn"
      },
      "source": [
        "Значения \"-1\" столбца \"rating\" показывают нам, что пользователь пока не поставил оценку данному тайтлу. Поэтому эти строки являются \"бесполезными\". Давайте удалим их:"
      ]
    },
    {
      "cell_type": "code",
      "metadata": {
        "id": "LzmIYtMUAGVl"
      },
      "source": [
        "rating = rating[rating[\"rating\"] != -1]"
      ],
      "execution_count": null,
      "outputs": []
    },
    {
      "cell_type": "code",
      "metadata": {
        "colab": {
          "base_uri": "https://localhost:8080/"
        },
        "id": "c3hbwEciBbdE",
        "outputId": "ab1512ca-b5fe-4552-ba7c-90b8e7ebf66d"
      },
      "source": [
        "rating.rating.value_counts()"
      ],
      "execution_count": null,
      "outputs": [
        {
          "output_type": "execute_result",
          "data": {
            "text/plain": [
              "8     1646019\n",
              "7     1375287\n",
              "9     1254096\n",
              "10     955715\n",
              "6      637775\n",
              "5      282806\n",
              "4      104291\n",
              "3       41453\n",
              "2       23150\n",
              "1       16649\n",
              "Name: rating, dtype: int64"
            ]
          },
          "metadata": {
            "tags": []
          },
          "execution_count": 42
        }
      ]
    },
    {
      "cell_type": "code",
      "metadata": {
        "colab": {
          "base_uri": "https://localhost:8080/"
        },
        "id": "I9Kiud6G2FSd",
        "outputId": "5f57745c-306b-43e4-d072-6bef7155322c"
      },
      "source": [
        "rating.info()"
      ],
      "execution_count": null,
      "outputs": [
        {
          "output_type": "stream",
          "text": [
            "<class 'pandas.core.frame.DataFrame'>\n",
            "Int64Index: 6337241 entries, 47 to 7813736\n",
            "Data columns (total 3 columns):\n",
            " #   Column    Dtype\n",
            "---  ------    -----\n",
            " 0   user_id   int64\n",
            " 1   anime_id  int64\n",
            " 2   rating    int64\n",
            "dtypes: int64(3)\n",
            "memory usage: 193.4 MB\n"
          ],
          "name": "stdout"
        }
      ]
    },
    {
      "cell_type": "code",
      "metadata": {
        "colab": {
          "base_uri": "https://localhost:8080/",
          "height": 491
        },
        "id": "ywz-RZC0vFga",
        "outputId": "51efe793-3147-4c8a-9671-4b46ffa70435"
      },
      "source": [
        "rating.head(15)"
      ],
      "execution_count": null,
      "outputs": [
        {
          "output_type": "execute_result",
          "data": {
            "text/html": [
              "<div>\n",
              "<style scoped>\n",
              "    .dataframe tbody tr th:only-of-type {\n",
              "        vertical-align: middle;\n",
              "    }\n",
              "\n",
              "    .dataframe tbody tr th {\n",
              "        vertical-align: top;\n",
              "    }\n",
              "\n",
              "    .dataframe thead th {\n",
              "        text-align: right;\n",
              "    }\n",
              "</style>\n",
              "<table border=\"1\" class=\"dataframe\">\n",
              "  <thead>\n",
              "    <tr style=\"text-align: right;\">\n",
              "      <th></th>\n",
              "      <th>user_id</th>\n",
              "      <th>anime_id</th>\n",
              "      <th>rating</th>\n",
              "    </tr>\n",
              "  </thead>\n",
              "  <tbody>\n",
              "    <tr>\n",
              "      <th>47</th>\n",
              "      <td>1</td>\n",
              "      <td>8074</td>\n",
              "      <td>10</td>\n",
              "    </tr>\n",
              "    <tr>\n",
              "      <th>81</th>\n",
              "      <td>1</td>\n",
              "      <td>11617</td>\n",
              "      <td>10</td>\n",
              "    </tr>\n",
              "    <tr>\n",
              "      <th>83</th>\n",
              "      <td>1</td>\n",
              "      <td>11757</td>\n",
              "      <td>10</td>\n",
              "    </tr>\n",
              "    <tr>\n",
              "      <th>101</th>\n",
              "      <td>1</td>\n",
              "      <td>15451</td>\n",
              "      <td>10</td>\n",
              "    </tr>\n",
              "    <tr>\n",
              "      <th>153</th>\n",
              "      <td>2</td>\n",
              "      <td>11771</td>\n",
              "      <td>10</td>\n",
              "    </tr>\n",
              "    <tr>\n",
              "      <th>156</th>\n",
              "      <td>3</td>\n",
              "      <td>20</td>\n",
              "      <td>8</td>\n",
              "    </tr>\n",
              "    <tr>\n",
              "      <th>157</th>\n",
              "      <td>3</td>\n",
              "      <td>154</td>\n",
              "      <td>6</td>\n",
              "    </tr>\n",
              "    <tr>\n",
              "      <th>158</th>\n",
              "      <td>3</td>\n",
              "      <td>170</td>\n",
              "      <td>9</td>\n",
              "    </tr>\n",
              "    <tr>\n",
              "      <th>159</th>\n",
              "      <td>3</td>\n",
              "      <td>199</td>\n",
              "      <td>10</td>\n",
              "    </tr>\n",
              "    <tr>\n",
              "      <th>160</th>\n",
              "      <td>3</td>\n",
              "      <td>225</td>\n",
              "      <td>9</td>\n",
              "    </tr>\n",
              "    <tr>\n",
              "      <th>161</th>\n",
              "      <td>3</td>\n",
              "      <td>341</td>\n",
              "      <td>6</td>\n",
              "    </tr>\n",
              "    <tr>\n",
              "      <th>162</th>\n",
              "      <td>3</td>\n",
              "      <td>430</td>\n",
              "      <td>7</td>\n",
              "    </tr>\n",
              "    <tr>\n",
              "      <th>163</th>\n",
              "      <td>3</td>\n",
              "      <td>527</td>\n",
              "      <td>7</td>\n",
              "    </tr>\n",
              "    <tr>\n",
              "      <th>164</th>\n",
              "      <td>3</td>\n",
              "      <td>552</td>\n",
              "      <td>7</td>\n",
              "    </tr>\n",
              "    <tr>\n",
              "      <th>165</th>\n",
              "      <td>3</td>\n",
              "      <td>813</td>\n",
              "      <td>10</td>\n",
              "    </tr>\n",
              "  </tbody>\n",
              "</table>\n",
              "</div>"
            ],
            "text/plain": [
              "     user_id  anime_id  rating\n",
              "47         1      8074      10\n",
              "81         1     11617      10\n",
              "83         1     11757      10\n",
              "101        1     15451      10\n",
              "153        2     11771      10\n",
              "156        3        20       8\n",
              "157        3       154       6\n",
              "158        3       170       9\n",
              "159        3       199      10\n",
              "160        3       225       9\n",
              "161        3       341       6\n",
              "162        3       430       7\n",
              "163        3       527       7\n",
              "164        3       552       7\n",
              "165        3       813      10"
            ]
          },
          "metadata": {
            "tags": []
          },
          "execution_count": 44
        }
      ]
    },
    {
      "cell_type": "code",
      "metadata": {
        "id": "_MDqeytGZgDB"
      },
      "source": [
        "#rating = rating[:500000]"
      ],
      "execution_count": null,
      "outputs": []
    },
    {
      "cell_type": "code",
      "metadata": {
        "id": "_UKrtfwbx3GE"
      },
      "source": [
        "#test = rating.iloc[::5]\n",
        "#test.head()"
      ],
      "execution_count": null,
      "outputs": []
    },
    {
      "cell_type": "code",
      "metadata": {
        "id": "n4Fg8OCBjCWO"
      },
      "source": [
        "#y = train[\"rating\"]\n",
        "#X = train.drop(\"rating\", axis=1)"
      ],
      "execution_count": null,
      "outputs": []
    },
    {
      "cell_type": "code",
      "metadata": {
        "id": "eiYGWIPv-j5k"
      },
      "source": [
        "y = rating[\"rating\"]\n",
        "X = rating.drop(\"rating\", axis=1)"
      ],
      "execution_count": null,
      "outputs": []
    },
    {
      "cell_type": "code",
      "metadata": {
        "colab": {
          "base_uri": "https://localhost:8080/",
          "height": 402
        },
        "id": "HPpHtnIE-qH8",
        "outputId": "06edb684-2d30-4b3d-9793-a1991919ae77"
      },
      "source": [
        "X"
      ],
      "execution_count": null,
      "outputs": [
        {
          "output_type": "execute_result",
          "data": {
            "text/html": [
              "<div>\n",
              "<style scoped>\n",
              "    .dataframe tbody tr th:only-of-type {\n",
              "        vertical-align: middle;\n",
              "    }\n",
              "\n",
              "    .dataframe tbody tr th {\n",
              "        vertical-align: top;\n",
              "    }\n",
              "\n",
              "    .dataframe thead th {\n",
              "        text-align: right;\n",
              "    }\n",
              "</style>\n",
              "<table border=\"1\" class=\"dataframe\">\n",
              "  <thead>\n",
              "    <tr style=\"text-align: right;\">\n",
              "      <th></th>\n",
              "      <th>user_id</th>\n",
              "      <th>anime_id</th>\n",
              "    </tr>\n",
              "  </thead>\n",
              "  <tbody>\n",
              "    <tr>\n",
              "      <th>47</th>\n",
              "      <td>1</td>\n",
              "      <td>8074</td>\n",
              "    </tr>\n",
              "    <tr>\n",
              "      <th>81</th>\n",
              "      <td>1</td>\n",
              "      <td>11617</td>\n",
              "    </tr>\n",
              "    <tr>\n",
              "      <th>83</th>\n",
              "      <td>1</td>\n",
              "      <td>11757</td>\n",
              "    </tr>\n",
              "    <tr>\n",
              "      <th>101</th>\n",
              "      <td>1</td>\n",
              "      <td>15451</td>\n",
              "    </tr>\n",
              "    <tr>\n",
              "      <th>153</th>\n",
              "      <td>2</td>\n",
              "      <td>11771</td>\n",
              "    </tr>\n",
              "    <tr>\n",
              "      <th>...</th>\n",
              "      <td>...</td>\n",
              "      <td>...</td>\n",
              "    </tr>\n",
              "    <tr>\n",
              "      <th>7813732</th>\n",
              "      <td>73515</td>\n",
              "      <td>16512</td>\n",
              "    </tr>\n",
              "    <tr>\n",
              "      <th>7813733</th>\n",
              "      <td>73515</td>\n",
              "      <td>17187</td>\n",
              "    </tr>\n",
              "    <tr>\n",
              "      <th>7813734</th>\n",
              "      <td>73515</td>\n",
              "      <td>22145</td>\n",
              "    </tr>\n",
              "    <tr>\n",
              "      <th>7813735</th>\n",
              "      <td>73516</td>\n",
              "      <td>790</td>\n",
              "    </tr>\n",
              "    <tr>\n",
              "      <th>7813736</th>\n",
              "      <td>73516</td>\n",
              "      <td>8074</td>\n",
              "    </tr>\n",
              "  </tbody>\n",
              "</table>\n",
              "<p>6337241 rows × 2 columns</p>\n",
              "</div>"
            ],
            "text/plain": [
              "         user_id  anime_id\n",
              "47             1      8074\n",
              "81             1     11617\n",
              "83             1     11757\n",
              "101            1     15451\n",
              "153            2     11771\n",
              "...          ...       ...\n",
              "7813732    73515     16512\n",
              "7813733    73515     17187\n",
              "7813734    73515     22145\n",
              "7813735    73516       790\n",
              "7813736    73516      8074\n",
              "\n",
              "[6337241 rows x 2 columns]"
            ]
          },
          "metadata": {
            "tags": []
          },
          "execution_count": 49
        }
      ]
    },
    {
      "cell_type": "code",
      "metadata": {
        "colab": {
          "base_uri": "https://localhost:8080/"
        },
        "id": "8WAZW9Fg-s0g",
        "outputId": "e4f6142f-b30f-4381-a1c9-b44c13ae3df6"
      },
      "source": [
        "y"
      ],
      "execution_count": null,
      "outputs": [
        {
          "output_type": "execute_result",
          "data": {
            "text/plain": [
              "47         10\n",
              "81         10\n",
              "83         10\n",
              "101        10\n",
              "153        10\n",
              "           ..\n",
              "7813732     7\n",
              "7813733     9\n",
              "7813734    10\n",
              "7813735     9\n",
              "7813736     9\n",
              "Name: rating, Length: 6337241, dtype: int64"
            ]
          },
          "metadata": {
            "tags": []
          },
          "execution_count": 50
        }
      ]
    },
    {
      "cell_type": "markdown",
      "metadata": {
        "id": "EzaQ6Vz9O1Ru"
      },
      "source": [
        "# Строим модель"
      ]
    },
    {
      "cell_type": "markdown",
      "metadata": {
        "id": "k4UQCKxBggKK"
      },
      "source": [
        "Попробуем решить задачу knn, случайным лесом и градиентным бустингом."
      ]
    },
    {
      "cell_type": "code",
      "metadata": {
        "id": "Dl08Caohgdjo"
      },
      "source": [
        "from sklearn import ensemble\n",
        "from sklearn.ensemble import RandomForestClassifier\n",
        "from sklearn.neighbors import KNeighborsClassifier\n",
        "from sklearn.model_selection import cross_val_score\n",
        "from sklearn.metrics import mean_squared_error\n",
        "from sklearn.model_selection import train_test_split"
      ],
      "execution_count": null,
      "outputs": []
    },
    {
      "cell_type": "code",
      "metadata": {
        "id": "5AKnsFuY-v-G"
      },
      "source": [
        "X_train, X_test, y_train, y_test = train_test_split(X, y, train_size=0.8, random_state=1)"
      ],
      "execution_count": null,
      "outputs": []
    },
    {
      "cell_type": "code",
      "metadata": {
        "colab": {
          "base_uri": "https://localhost:8080/"
        },
        "id": "5q_rUafwNtMh",
        "outputId": "cfd5a4ea-2510-4816-eaf2-af9e33303232"
      },
      "source": [
        "X_train.shape, X_test.shape, y_train.shape, y_test.shape"
      ],
      "execution_count": null,
      "outputs": [
        {
          "output_type": "execute_result",
          "data": {
            "text/plain": [
              "((5069792, 2), (1267449, 2), (5069792,), (1267449,))"
            ]
          },
          "metadata": {
            "tags": []
          },
          "execution_count": 53
        }
      ]
    },
    {
      "cell_type": "code",
      "metadata": {
        "colab": {
          "base_uri": "https://localhost:8080/",
          "height": 402
        },
        "id": "PT0oSj6SBXVq",
        "outputId": "4e2fc92a-83de-4ca9-aca3-b90270ff9c0f"
      },
      "source": [
        "X_train"
      ],
      "execution_count": null,
      "outputs": [
        {
          "output_type": "execute_result",
          "data": {
            "text/html": [
              "<div>\n",
              "<style scoped>\n",
              "    .dataframe tbody tr th:only-of-type {\n",
              "        vertical-align: middle;\n",
              "    }\n",
              "\n",
              "    .dataframe tbody tr th {\n",
              "        vertical-align: top;\n",
              "    }\n",
              "\n",
              "    .dataframe thead th {\n",
              "        text-align: right;\n",
              "    }\n",
              "</style>\n",
              "<table border=\"1\" class=\"dataframe\">\n",
              "  <thead>\n",
              "    <tr style=\"text-align: right;\">\n",
              "      <th></th>\n",
              "      <th>user_id</th>\n",
              "      <th>anime_id</th>\n",
              "    </tr>\n",
              "  </thead>\n",
              "  <tbody>\n",
              "    <tr>\n",
              "      <th>951669</th>\n",
              "      <td>8661</td>\n",
              "      <td>24833</td>\n",
              "    </tr>\n",
              "    <tr>\n",
              "      <th>1222127</th>\n",
              "      <td>11536</td>\n",
              "      <td>1172</td>\n",
              "    </tr>\n",
              "    <tr>\n",
              "      <th>6441611</th>\n",
              "      <td>59596</td>\n",
              "      <td>1720</td>\n",
              "    </tr>\n",
              "    <tr>\n",
              "      <th>2042340</th>\n",
              "      <td>19771</td>\n",
              "      <td>7791</td>\n",
              "    </tr>\n",
              "    <tr>\n",
              "      <th>2833988</th>\n",
              "      <td>26535</td>\n",
              "      <td>11981</td>\n",
              "    </tr>\n",
              "    <tr>\n",
              "      <th>...</th>\n",
              "      <td>...</td>\n",
              "      <td>...</td>\n",
              "    </tr>\n",
              "    <tr>\n",
              "      <th>6210545</th>\n",
              "      <td>58043</td>\n",
              "      <td>10187</td>\n",
              "    </tr>\n",
              "    <tr>\n",
              "      <th>608466</th>\n",
              "      <td>5903</td>\n",
              "      <td>43</td>\n",
              "    </tr>\n",
              "    <tr>\n",
              "      <th>4868662</th>\n",
              "      <td>46445</td>\n",
              "      <td>44</td>\n",
              "    </tr>\n",
              "    <tr>\n",
              "      <th>5794603</th>\n",
              "      <td>54214</td>\n",
              "      <td>4901</td>\n",
              "    </tr>\n",
              "    <tr>\n",
              "      <th>5346817</th>\n",
              "      <td>50644</td>\n",
              "      <td>3829</td>\n",
              "    </tr>\n",
              "  </tbody>\n",
              "</table>\n",
              "<p>5069792 rows × 2 columns</p>\n",
              "</div>"
            ],
            "text/plain": [
              "         user_id  anime_id\n",
              "951669      8661     24833\n",
              "1222127    11536      1172\n",
              "6441611    59596      1720\n",
              "2042340    19771      7791\n",
              "2833988    26535     11981\n",
              "...          ...       ...\n",
              "6210545    58043     10187\n",
              "608466      5903        43\n",
              "4868662    46445        44\n",
              "5794603    54214      4901\n",
              "5346817    50644      3829\n",
              "\n",
              "[5069792 rows x 2 columns]"
            ]
          },
          "metadata": {
            "tags": []
          },
          "execution_count": 54
        }
      ]
    },
    {
      "cell_type": "code",
      "metadata": {
        "colab": {
          "base_uri": "https://localhost:8080/"
        },
        "id": "j7MdwhZjBYux",
        "outputId": "c2714af4-1cab-4968-9960-663c0a849673"
      },
      "source": [
        "y_train"
      ],
      "execution_count": null,
      "outputs": [
        {
          "output_type": "execute_result",
          "data": {
            "text/plain": [
              "951669      7\n",
              "1222127     8\n",
              "6441611     8\n",
              "2042340     8\n",
              "2833988     9\n",
              "           ..\n",
              "6210545     7\n",
              "608466     10\n",
              "4868662     8\n",
              "5794603     8\n",
              "5346817     9\n",
              "Name: rating, Length: 5069792, dtype: int64"
            ]
          },
          "metadata": {
            "tags": []
          },
          "execution_count": 55
        }
      ]
    },
    {
      "cell_type": "markdown",
      "metadata": {
        "id": "WNzGuCPdfukG"
      },
      "source": [
        "**KNN**"
      ]
    },
    {
      "cell_type": "code",
      "metadata": {
        "id": "dpaSEs_1fkal"
      },
      "source": [
        "knn = KNeighborsClassifier(n_neighbors=20).fit(X_train, y_train)"
      ],
      "execution_count": null,
      "outputs": []
    },
    {
      "cell_type": "code",
      "metadata": {
        "id": "gQkN70dhCb6M"
      },
      "source": [
        "y_train_knn = knn.predict(X_train)\n",
        "y_test_knn = knn.predict(X_test)"
      ],
      "execution_count": null,
      "outputs": []
    },
    {
      "cell_type": "code",
      "metadata": {
        "colab": {
          "base_uri": "https://localhost:8080/"
        },
        "id": "K2Tv5kF8CjdR",
        "outputId": "c126f189-138d-4787-b577-678402d5824b"
      },
      "source": [
        "# Импортируем метрику качества из sklearn metrics. \n",
        "# Функция accuracy_score принимает на вход \n",
        "# истинные и предсказанные лейблы и возвращает \n",
        "# процент совпавших ответов\n",
        "from sklearn.metrics import accuracy_score\n",
        "\n",
        "print(f'Процент правильно угаданных ответов на обучающем множестве: {accuracy_score(y_train, y_train_knn)}')\n",
        "print(f'Процент правильно угаданных ответов на тестовом множестве: {accuracy_score(y_test, y_test_knn)}')"
      ],
      "execution_count": null,
      "outputs": [
        {
          "output_type": "stream",
          "text": [
            "Процент правильно угаданных ответов на обучающем множестве: 0.3491875011834805\n",
            "Процент правильно угаданных ответов на тестовом множестве: 0.25037457128452506\n"
          ],
          "name": "stdout"
        }
      ]
    },
    {
      "cell_type": "code",
      "metadata": {
        "colab": {
          "base_uri": "https://localhost:8080/"
        },
        "id": "f3loZOoKNjww",
        "outputId": "94955bef-8f58-450a-9e35-49db640fe796"
      },
      "source": [
        "y_test.shape, y_test_knn.shape"
      ],
      "execution_count": null,
      "outputs": [
        {
          "output_type": "execute_result",
          "data": {
            "text/plain": [
              "((1267449,), (1267449,))"
            ]
          },
          "metadata": {
            "tags": []
          },
          "execution_count": 59
        }
      ]
    },
    {
      "cell_type": "code",
      "metadata": {
        "colab": {
          "base_uri": "https://localhost:8080/",
          "height": 265
        },
        "id": "gAerUo9oMw39",
        "outputId": "9d30d7e1-333a-43fb-fca3-1ada0cec1467"
      },
      "source": [
        "plt.hist(y_test);"
      ],
      "execution_count": null,
      "outputs": [
        {
          "output_type": "display_data",
          "data": {
            "image/png": "[encoded data removed]",
            "text/plain": [
              "<Figure size 432x288 with 1 Axes>"
            ]
          },
          "metadata": {
            "tags": [],
            "needs_background": "light"
          }
        }
      ]
    },
    {
      "cell_type": "code",
      "metadata": {
        "colab": {
          "base_uri": "https://localhost:8080/",
          "height": 265
        },
        "id": "jMQnsI8sMxO_",
        "outputId": "1f841377-ca6a-440c-cc29-643ba181ba3b"
      },
      "source": [
        "plt.hist(y_test_knn);"
      ],
      "execution_count": null,
      "outputs": [
        {
          "output_type": "display_data",
          "data": {
            "image/png": "[encoded data removed]",
            "text/plain": [
              "<Figure size 432x288 with 1 Axes>"
            ]
          },
          "metadata": {
            "tags": [],
            "needs_background": "light"
          }
        }
      ]
    },
    {
      "cell_type": "code",
      "metadata": {
        "colab": {
          "base_uri": "https://localhost:8080/"
        },
        "id": "qzl0ELSdOoiU",
        "outputId": "cf3f174f-2aa6-4c1b-b6f0-7d45978bd1b1"
      },
      "source": [
        "mean_squared_error(y_test_knn, y_test)"
      ],
      "execution_count": null,
      "outputs": [
        {
          "output_type": "execute_result",
          "data": {
            "text/plain": [
              "3.1432002392206706"
            ]
          },
          "metadata": {
            "tags": []
          },
          "execution_count": 181
        }
      ]
    },
    {
      "cell_type": "markdown",
      "metadata": {
        "id": "NM1x7hhhfw7o"
      },
      "source": [
        "**Случайный лес**"
      ]
    },
    {
      "cell_type": "markdown",
      "metadata": {
        "id": "047bXBojO1aD"
      },
      "source": [
        "Регрессия"
      ]
    },
    {
      "cell_type": "code",
      "metadata": {
        "id": "0UtZQihZgiMd"
      },
      "source": [
        "rf = ensemble.RandomForestRegressor(n_estimators=100, max_depth=10, min_samples_split=7)"
      ],
      "execution_count": null,
      "outputs": []
    },
    {
      "cell_type": "code",
      "metadata": {
        "colab": {
          "base_uri": "https://localhost:8080/"
        },
        "id": "5kncBHEsh9gE",
        "outputId": "833d10a1-bcf1-4263-d549-1cf86bd8d304"
      },
      "source": [
        "rf.fit(X_train, y_train)"
      ],
      "execution_count": null,
      "outputs": [
        {
          "output_type": "execute_result",
          "data": {
            "text/plain": [
              "RandomForestRegressor(bootstrap=True, ccp_alpha=0.0, criterion='mse',\n",
              "                      max_depth=10, max_features='auto', max_leaf_nodes=None,\n",
              "                      max_samples=None, min_impurity_decrease=0.0,\n",
              "                      min_impurity_split=None, min_samples_leaf=1,\n",
              "                      min_samples_split=7, min_weight_fraction_leaf=0.0,\n",
              "                      n_estimators=100, n_jobs=None, oob_score=False,\n",
              "                      random_state=None, verbose=0, warm_start=False)"
            ]
          },
          "metadata": {
            "tags": []
          },
          "execution_count": 374
        }
      ]
    },
    {
      "cell_type": "code",
      "metadata": {
        "id": "nElrWdX3Fb0R"
      },
      "source": [
        "y_train_rf = rf.predict(X_train)\n",
        "y_test_rf = rf.predict(X_test)"
      ],
      "execution_count": null,
      "outputs": []
    },
    {
      "cell_type": "code",
      "metadata": {
        "colab": {
          "base_uri": "https://localhost:8080/"
        },
        "id": "zFaCf752MFe3",
        "outputId": "799cad83-0052-408a-d054-a988af0529fa"
      },
      "source": [
        "y_test"
      ],
      "execution_count": null,
      "outputs": [
        {
          "output_type": "execute_result",
          "data": {
            "text/plain": [
              "5506191    9\n",
              "7237456    8\n",
              "946992     9\n",
              "430149     9\n",
              "4131273    7\n",
              "          ..\n",
              "5971223    7\n",
              "7406203    7\n",
              "1082815    9\n",
              "1061611    8\n",
              "1002754    8\n",
              "Name: rating, Length: 1267449, dtype: int64"
            ]
          },
          "metadata": {
            "tags": []
          },
          "execution_count": 379
        }
      ]
    },
    {
      "cell_type": "code",
      "metadata": {
        "colab": {
          "base_uri": "https://localhost:8080/"
        },
        "id": "CkrRtmkkMALR",
        "outputId": "0d395bfd-f796-452c-9308-bd7aa217f3b4"
      },
      "source": [
        "len(y_test_rf)"
      ],
      "execution_count": null,
      "outputs": [
        {
          "output_type": "execute_result",
          "data": {
            "text/plain": [
              "1267449"
            ]
          },
          "metadata": {
            "tags": []
          },
          "execution_count": 385
        }
      ]
    },
    {
      "cell_type": "code",
      "metadata": {
        "colab": {
          "base_uri": "https://localhost:8080/",
          "height": 276
        },
        "id": "DUL3WRMbe5jv",
        "outputId": "2e5f7d8d-88a1-4a56-a762-38e0edbb5b02"
      },
      "source": [
        "plt.hist(y_test_rf);"
      ],
      "execution_count": null,
      "outputs": [
        {
          "output_type": "display_data",
          "data": {
            "image/png": "[encoded data removed]",
            "text/plain": [
              "<Figure size 432x288 with 1 Axes>"
            ]
          },
          "metadata": {
            "tags": [],
            "needs_background": "light"
          }
        }
      ]
    },
    {
      "cell_type": "code",
      "metadata": {
        "colab": {
          "base_uri": "https://localhost:8080/",
          "height": 265
        },
        "id": "IbVJbDKKFpqm",
        "outputId": "ebc23b35-d468-4cc1-b1d1-1ebd501178e0"
      },
      "source": [
        "plt.hist(y_test);"
      ],
      "execution_count": null,
      "outputs": [
        {
          "output_type": "display_data",
          "data": {
            "image/png": "[encoded data removed]",
            "text/plain": [
              "<Figure size 432x288 with 1 Axes>"
            ]
          },
          "metadata": {
            "tags": [],
            "needs_background": "light"
          }
        }
      ]
    },
    {
      "cell_type": "code",
      "metadata": {
        "colab": {
          "base_uri": "https://localhost:8080/"
        },
        "id": "vCuR0voeYr4m",
        "outputId": "8e7a531d-f623-4c72-d19d-82a4ae47a438"
      },
      "source": [
        "print(f'Процент правильно угаданных ответов на обучающем множестве: {accuracy_score(y_train, y_train_pred)}')\n",
        "print(f'Процент правильно угаданных ответов на тестовом множестве: {accuracy_score(y_test, y_test_pred)}')"
      ],
      "execution_count": null,
      "outputs": [
        {
          "output_type": "stream",
          "text": [
            "Процент правильно угаданных ответов на обучающем множестве: 0.3488717091352071\n",
            "Процент правильно угаданных ответов на тестовом множестве: 0.25077695433899116\n"
          ],
          "name": "stdout"
        }
      ]
    },
    {
      "cell_type": "code",
      "metadata": {
        "colab": {
          "base_uri": "https://localhost:8080/"
        },
        "id": "F8xyENllGbbp",
        "outputId": "fdc669d5-e6eb-41ed-ebbc-db896f20304d"
      },
      "source": [
        "mean_squared_error(y_test_rf, y_test)"
      ],
      "execution_count": null,
      "outputs": [
        {
          "output_type": "execute_result",
          "data": {
            "text/plain": [
              "2.3689088689635716"
            ]
          },
          "metadata": {
            "tags": []
          },
          "execution_count": 388
        }
      ]
    },
    {
      "cell_type": "markdown",
      "metadata": {
        "id": "pJPn5UnZOMkG"
      },
      "source": [
        "Классификация"
      ]
    },
    {
      "cell_type": "code",
      "metadata": {
        "id": "hR1qtA1LOJVP"
      },
      "source": [
        "from sklearn.ensemble import RandomForestClassifier"
      ],
      "execution_count": null,
      "outputs": []
    },
    {
      "cell_type": "code",
      "metadata": {
        "colab": {
          "base_uri": "https://localhost:8080/"
        },
        "id": "bYSOXzzkNXiL",
        "outputId": "285e192a-cac2-4904-bfa8-426209d1e9b7"
      },
      "source": [
        "model = RandomForestClassifier(n_estimators=100, n_jobs=-1)\n",
        "model.fit(X_train, y_train)"
      ],
      "execution_count": null,
      "outputs": [
        {
          "output_type": "execute_result",
          "data": {
            "text/plain": [
              "RandomForestClassifier(bootstrap=True, ccp_alpha=0.0, class_weight=None,\n",
              "                       criterion='gini', max_depth=10, max_features='auto',\n",
              "                       max_leaf_nodes=None, max_samples=None,\n",
              "                       min_impurity_decrease=0.0, min_impurity_split=None,\n",
              "                       min_samples_leaf=1, min_samples_split=2,\n",
              "                       min_weight_fraction_leaf=0.0, n_estimators=100,\n",
              "                       n_jobs=None, oob_score=False, random_state=0, verbose=0,\n",
              "                       warm_start=False)"
            ]
          },
          "metadata": {
            "tags": []
          },
          "execution_count": 395
        }
      ]
    },
    {
      "cell_type": "code",
      "metadata": {
        "id": "-6LIeyxxOii6"
      },
      "source": [
        "y_train_rf1 = model.predict(X_train)\n",
        "y_test_rf1 = model.predict(X_test)"
      ],
      "execution_count": null,
      "outputs": []
    },
    {
      "cell_type": "code",
      "metadata": {
        "colab": {
          "base_uri": "https://localhost:8080/",
          "height": 265
        },
        "id": "Ahvi-6UoO-4P",
        "outputId": "c485d3bb-8cd2-4104-9ee9-d97d2c148d01"
      },
      "source": [
        "plt.hist(y_test);"
      ],
      "execution_count": null,
      "outputs": [
        {
          "output_type": "display_data",
          "data": {
            "image/png": "[encoded data removed]",
            "text/plain": [
              "<Figure size 432x288 with 1 Axes>"
            ]
          },
          "metadata": {
            "tags": [],
            "needs_background": "light"
          }
        }
      ]
    },
    {
      "cell_type": "code",
      "metadata": {
        "colab": {
          "base_uri": "https://localhost:8080/",
          "height": 276
        },
        "id": "s6caD27rO34O",
        "outputId": "ad198412-f0eb-4314-b6fe-73f68328f397"
      },
      "source": [
        "plt.hist(y_test_rf1);"
      ],
      "execution_count": null,
      "outputs": [
        {
          "output_type": "display_data",
          "data": {
            "image/png": "[encoded data removed]",
            "text/plain": [
              "<Figure size 432x288 with 1 Axes>"
            ]
          },
          "metadata": {
            "tags": [],
            "needs_background": "light"
          }
        }
      ]
    },
    {
      "cell_type": "code",
      "metadata": {
        "colab": {
          "base_uri": "https://localhost:8080/"
        },
        "id": "_8PbBvLrYCZ6",
        "outputId": "18eb860e-59fc-461a-aa87-3f79a94fd8c0"
      },
      "source": [
        "y_test_rf1"
      ],
      "execution_count": null,
      "outputs": [
        {
          "output_type": "execute_result",
          "data": {
            "text/plain": [
              "array([ 8,  8, 10, ...,  8,  8,  8])"
            ]
          },
          "metadata": {
            "tags": []
          },
          "execution_count": 402
        }
      ]
    },
    {
      "cell_type": "markdown",
      "metadata": {
        "id": "MYdtB8Tuf2Wk"
      },
      "source": [
        "**Градиентный бустинг**"
      ]
    },
    {
      "cell_type": "code",
      "metadata": {
        "id": "Rco-ukxaQ2Rn"
      },
      "source": [
        "gb = ensemble.GradientBoostingRegressor(n_estimators=500, max_depth=5, min_samples_split=10)"
      ],
      "execution_count": null,
      "outputs": []
    },
    {
      "cell_type": "code",
      "metadata": {
        "colab": {
          "base_uri": "https://localhost:8080/"
        },
        "id": "_FXQjvhiQ4RS",
        "outputId": "e29bde85-a8c3-475b-9d91-75f085af4b89"
      },
      "source": [
        "gb.fit(X_train, y_train)"
      ],
      "execution_count": null,
      "outputs": [
        {
          "output_type": "execute_result",
          "data": {
            "text/plain": [
              "GradientBoostingRegressor(alpha=0.9, ccp_alpha=0.0, criterion='friedman_mse',\n",
              "                          init=None, learning_rate=0.1, loss='ls', max_depth=5,\n",
              "                          max_features=None, max_leaf_nodes=None,\n",
              "                          min_impurity_decrease=0.0, min_impurity_split=None,\n",
              "                          min_samples_leaf=1, min_samples_split=10,\n",
              "                          min_weight_fraction_leaf=0.0, n_estimators=500,\n",
              "                          n_iter_no_change=None, presort='deprecated',\n",
              "                          random_state=None, subsample=1.0, tol=0.0001,\n",
              "                          validation_fraction=0.1, verbose=0, warm_start=False)"
            ]
          },
          "metadata": {
            "tags": []
          },
          "execution_count": 244
        }
      ]
    },
    {
      "cell_type": "markdown",
      "metadata": {
        "id": "4wC0yI3pij_7"
      },
      "source": [
        "Обучалось два часа!"
      ]
    },
    {
      "cell_type": "code",
      "metadata": {
        "id": "GitSGUnVQ-vT"
      },
      "source": [
        "y_test_gb = gb.predict(X_test)"
      ],
      "execution_count": null,
      "outputs": []
    },
    {
      "cell_type": "code",
      "metadata": {
        "id": "aiYm2cjwFXr_"
      },
      "source": [
        "print(f'Процент правильно угаданных ответов на тестовом множестве: {accuracy_score(y_test, y_test_gb)}')"
      ],
      "execution_count": null,
      "outputs": []
    },
    {
      "cell_type": "code",
      "metadata": {
        "colab": {
          "base_uri": "https://localhost:8080/",
          "height": 265
        },
        "id": "NlG0MSwKRJCY",
        "outputId": "8c3eccad-3e88-4041-f256-51be1dfb76c8"
      },
      "source": [
        "plt.hist(y_test_gb);"
      ],
      "execution_count": null,
      "outputs": [
        {
          "output_type": "display_data",
          "data": {
            "image/png": "[encoded data removed]",
            "text/plain": [
              "<Figure size 432x288 with 1 Axes>"
            ]
          },
          "metadata": {
            "tags": [],
            "needs_background": "light"
          }
        }
      ]
    },
    {
      "cell_type": "code",
      "metadata": {
        "colab": {
          "base_uri": "https://localhost:8080/",
          "height": 265
        },
        "id": "KkgqiOwbe3A9",
        "outputId": "e79a3de7-5e25-4510-a211-502c30b15453"
      },
      "source": [
        "plt.hist(y_test_true);"
      ],
      "execution_count": null,
      "outputs": [
        {
          "output_type": "display_data",
          "data": {
            "image/png": "[encoded data removed]",
            "text/plain": [
              "<Figure size 432x288 with 1 Axes>"
            ]
          },
          "metadata": {
            "tags": [],
            "needs_background": "light"
          }
        }
      ]
    },
    {
      "cell_type": "code",
      "metadata": {
        "colab": {
          "base_uri": "https://localhost:8080/"
        },
        "id": "0VJsa9LJe-JV",
        "outputId": "78df5827-c3ba-4ef6-b4a0-211ec616aafd"
      },
      "source": [
        "mean_squared_error(y_test_gb, y_test_true)"
      ],
      "execution_count": null,
      "outputs": [
        {
          "output_type": "execute_result",
          "data": {
            "text/plain": [
              "2.2771462637398696"
            ]
          },
          "metadata": {
            "tags": []
          },
          "execution_count": 262
        }
      ]
    },
    {
      "cell_type": "code",
      "metadata": {
        "id": "lmnsZnTtigNG"
      },
      "source": [
        ""
      ],
      "execution_count": null,
      "outputs": []
    },
    {
      "cell_type": "markdown",
      "metadata": {
        "id": "X82PJCoNbaLW"
      },
      "source": [
        "**Catboost**"
      ]
    },
    {
      "cell_type": "code",
      "metadata": {
        "colab": {
          "base_uri": "https://localhost:8080/"
        },
        "id": "MlbW3nSPQXWy",
        "outputId": "d52f3028-5e5e-4bde-caf3-45c16dea4422"
      },
      "source": [
        "!pip install catboost"
      ],
      "execution_count": null,
      "outputs": [
        {
          "output_type": "stream",
          "text": [
            "Collecting catboost\n",
            "\u001b[?25l  Downloading https://files.pythonhosted.org/packages/47/80/8e9c57ec32dfed6ba2922bc5c96462cbf8596ce1a6f5de532ad1e43e53fe/catboost-0.25.1-cp37-none-manylinux1_x86_64.whl (67.3MB)\n",
            "\u001b[K     |████████████████████████████████| 67.3MB 56kB/s \n",
            "\u001b[?25hRequirement already satisfied: graphviz in /usr/local/lib/python3.7/dist-packages (from catboost) (0.10.1)\n",
            "Requirement already satisfied: pandas>=0.24.0 in /usr/local/lib/python3.7/dist-packages (from catboost) (1.1.5)\n",
            "Requirement already satisfied: plotly in /usr/local/lib/python3.7/dist-packages (from catboost) (4.4.1)\n",
            "Requirement already satisfied: six in /usr/local/lib/python3.7/dist-packages (from catboost) (1.15.0)\n",
            "Requirement already satisfied: scipy in /usr/local/lib/python3.7/dist-packages (from catboost) (1.4.1)\n",
            "Requirement already satisfied: numpy>=1.16.0 in /usr/local/lib/python3.7/dist-packages (from catboost) (1.19.5)\n",
            "Requirement already satisfied: matplotlib in /usr/local/lib/python3.7/dist-packages (from catboost) (3.2.2)\n",
            "Requirement already satisfied: pytz>=2017.2 in /usr/local/lib/python3.7/dist-packages (from pandas>=0.24.0->catboost) (2018.9)\n",
            "Requirement already satisfied: python-dateutil>=2.7.3 in /usr/local/lib/python3.7/dist-packages (from pandas>=0.24.0->catboost) (2.8.1)\n",
            "Requirement already satisfied: retrying>=1.3.3 in /usr/local/lib/python3.7/dist-packages (from plotly->catboost) (1.3.3)\n",
            "Requirement already satisfied: pyparsing!=2.0.4,!=2.1.2,!=2.1.6,>=2.0.1 in /usr/local/lib/python3.7/dist-packages (from matplotlib->catboost) (2.4.7)\n",
            "Requirement already satisfied: kiwisolver>=1.0.1 in /usr/local/lib/python3.7/dist-packages (from matplotlib->catboost) (1.3.1)\n",
            "Requirement already satisfied: cycler>=0.10 in /usr/local/lib/python3.7/dist-packages (from matplotlib->catboost) (0.10.0)\n",
            "Installing collected packages: catboost\n",
            "Successfully installed catboost-0.25.1\n"
          ],
          "name": "stdout"
        }
      ]
    },
    {
      "cell_type": "code",
      "metadata": {
        "id": "swWsPp1fUtem"
      },
      "source": [
        "import pandas as pd\n",
        "import numpy as np\n",
        "import seaborn as sns\n",
        "import matplotlib.pyplot as plt"
      ],
      "execution_count": null,
      "outputs": []
    },
    {
      "cell_type": "markdown",
      "metadata": {
        "id": "1hbtiaCObzhx"
      },
      "source": [
        "**Подготовка данных**"
      ]
    },
    {
      "cell_type": "code",
      "metadata": {
        "id": "ppNTKAMZPKRF"
      },
      "source": [
        "anime_df = pd.read_csv(\"/content/drive/MyDrive/Курс 3/Семестр6/CourseProject/asd/anime.csv\")\n",
        "rating_df = pd.read_csv(\"/content/drive/MyDrive/Курс 3/Семестр6/CourseProject/asd/rating.csv\")"
      ],
      "execution_count": null,
      "outputs": []
    },
    {
      "cell_type": "code",
      "metadata": {
        "colab": {
          "base_uri": "https://localhost:8080/",
          "height": 195
        },
        "id": "JJN6-JeWPjwD",
        "outputId": "e8f8dc6d-00c0-4ee8-f826-96a725949556"
      },
      "source": [
        "anime_df.head()"
      ],
      "execution_count": null,
      "outputs": [
        {
          "output_type": "execute_result",
          "data": {
            "text/html": [
              "<div>\n",
              "<style scoped>\n",
              "    .dataframe tbody tr th:only-of-type {\n",
              "        vertical-align: middle;\n",
              "    }\n",
              "\n",
              "    .dataframe tbody tr th {\n",
              "        vertical-align: top;\n",
              "    }\n",
              "\n",
              "    .dataframe thead th {\n",
              "        text-align: right;\n",
              "    }\n",
              "</style>\n",
              "<table border=\"1\" class=\"dataframe\">\n",
              "  <thead>\n",
              "    <tr style=\"text-align: right;\">\n",
              "      <th></th>\n",
              "      <th>anime_id</th>\n",
              "      <th>name</th>\n",
              "      <th>genre</th>\n",
              "      <th>type</th>\n",
              "      <th>episodes</th>\n",
              "      <th>rating</th>\n",
              "      <th>members</th>\n",
              "    </tr>\n",
              "  </thead>\n",
              "  <tbody>\n",
              "    <tr>\n",
              "      <th>0</th>\n",
              "      <td>32281</td>\n",
              "      <td>Kimi no Na wa.</td>\n",
              "      <td>Drama, Romance, School, Supernatural</td>\n",
              "      <td>Movie</td>\n",
              "      <td>1</td>\n",
              "      <td>9.37</td>\n",
              "      <td>200630</td>\n",
              "    </tr>\n",
              "    <tr>\n",
              "      <th>1</th>\n",
              "      <td>5114</td>\n",
              "      <td>Fullmetal Alchemist: Brotherhood</td>\n",
              "      <td>Action, Adventure, Drama, Fantasy, Magic, Mili...</td>\n",
              "      <td>TV</td>\n",
              "      <td>64</td>\n",
              "      <td>9.26</td>\n",
              "      <td>793665</td>\n",
              "    </tr>\n",
              "    <tr>\n",
              "      <th>2</th>\n",
              "      <td>28977</td>\n",
              "      <td>Gintama°</td>\n",
              "      <td>Action, Comedy, Historical, Parody, Samurai, S...</td>\n",
              "      <td>TV</td>\n",
              "      <td>51</td>\n",
              "      <td>9.25</td>\n",
              "      <td>114262</td>\n",
              "    </tr>\n",
              "    <tr>\n",
              "      <th>3</th>\n",
              "      <td>9253</td>\n",
              "      <td>Steins;Gate</td>\n",
              "      <td>Sci-Fi, Thriller</td>\n",
              "      <td>TV</td>\n",
              "      <td>24</td>\n",
              "      <td>9.17</td>\n",
              "      <td>673572</td>\n",
              "    </tr>\n",
              "    <tr>\n",
              "      <th>4</th>\n",
              "      <td>9969</td>\n",
              "      <td>Gintama&amp;#039;</td>\n",
              "      <td>Action, Comedy, Historical, Parody, Samurai, S...</td>\n",
              "      <td>TV</td>\n",
              "      <td>51</td>\n",
              "      <td>9.16</td>\n",
              "      <td>151266</td>\n",
              "    </tr>\n",
              "  </tbody>\n",
              "</table>\n",
              "</div>"
            ],
            "text/plain": [
              "   anime_id                              name  ... rating members\n",
              "0     32281                    Kimi no Na wa.  ...   9.37  200630\n",
              "1      5114  Fullmetal Alchemist: Brotherhood  ...   9.26  793665\n",
              "2     28977                          Gintama°  ...   9.25  114262\n",
              "3      9253                       Steins;Gate  ...   9.17  673572\n",
              "4      9969                     Gintama&#039;  ...   9.16  151266\n",
              "\n",
              "[5 rows x 7 columns]"
            ]
          },
          "metadata": {
            "tags": []
          },
          "execution_count": 6
        }
      ]
    },
    {
      "cell_type": "code",
      "metadata": {
        "colab": {
          "base_uri": "https://localhost:8080/",
          "height": 195
        },
        "id": "e8mOtEhvPmIa",
        "outputId": "cc7f5914-6494-4b8f-ed65-d3a3f7d198a4"
      },
      "source": [
        "rating_df.head()"
      ],
      "execution_count": null,
      "outputs": [
        {
          "output_type": "execute_result",
          "data": {
            "text/html": [
              "<div>\n",
              "<style scoped>\n",
              "    .dataframe tbody tr th:only-of-type {\n",
              "        vertical-align: middle;\n",
              "    }\n",
              "\n",
              "    .dataframe tbody tr th {\n",
              "        vertical-align: top;\n",
              "    }\n",
              "\n",
              "    .dataframe thead th {\n",
              "        text-align: right;\n",
              "    }\n",
              "</style>\n",
              "<table border=\"1\" class=\"dataframe\">\n",
              "  <thead>\n",
              "    <tr style=\"text-align: right;\">\n",
              "      <th></th>\n",
              "      <th>user_id</th>\n",
              "      <th>anime_id</th>\n",
              "      <th>rating</th>\n",
              "    </tr>\n",
              "  </thead>\n",
              "  <tbody>\n",
              "    <tr>\n",
              "      <th>0</th>\n",
              "      <td>1</td>\n",
              "      <td>20</td>\n",
              "      <td>-1</td>\n",
              "    </tr>\n",
              "    <tr>\n",
              "      <th>1</th>\n",
              "      <td>1</td>\n",
              "      <td>24</td>\n",
              "      <td>-1</td>\n",
              "    </tr>\n",
              "    <tr>\n",
              "      <th>2</th>\n",
              "      <td>1</td>\n",
              "      <td>79</td>\n",
              "      <td>-1</td>\n",
              "    </tr>\n",
              "    <tr>\n",
              "      <th>3</th>\n",
              "      <td>1</td>\n",
              "      <td>226</td>\n",
              "      <td>-1</td>\n",
              "    </tr>\n",
              "    <tr>\n",
              "      <th>4</th>\n",
              "      <td>1</td>\n",
              "      <td>241</td>\n",
              "      <td>-1</td>\n",
              "    </tr>\n",
              "  </tbody>\n",
              "</table>\n",
              "</div>"
            ],
            "text/plain": [
              "   user_id  anime_id  rating\n",
              "0        1        20      -1\n",
              "1        1        24      -1\n",
              "2        1        79      -1\n",
              "3        1       226      -1\n",
              "4        1       241      -1"
            ]
          },
          "metadata": {
            "tags": []
          },
          "execution_count": 7
        }
      ]
    },
    {
      "cell_type": "code",
      "metadata": {
        "id": "BG6pR-AaPzd6"
      },
      "source": [
        "anime_df.dropna(inplace=True)"
      ],
      "execution_count": null,
      "outputs": []
    },
    {
      "cell_type": "code",
      "metadata": {
        "colab": {
          "base_uri": "https://localhost:8080/"
        },
        "id": "xkJewV13P18R",
        "outputId": "210fd45e-8caf-4515-b0bd-d0f3781fe993"
      },
      "source": [
        "anime_df.info()"
      ],
      "execution_count": null,
      "outputs": [
        {
          "output_type": "stream",
          "text": [
            "<class 'pandas.core.frame.DataFrame'>\n",
            "Int64Index: 12017 entries, 0 to 12293\n",
            "Data columns (total 7 columns):\n",
            " #   Column    Non-Null Count  Dtype  \n",
            "---  ------    --------------  -----  \n",
            " 0   anime_id  12017 non-null  int64  \n",
            " 1   name      12017 non-null  object \n",
            " 2   genre     12017 non-null  object \n",
            " 3   type      12017 non-null  object \n",
            " 4   episodes  12017 non-null  object \n",
            " 5   rating    12017 non-null  float64\n",
            " 6   members   12017 non-null  int64  \n",
            "dtypes: float64(1), int64(2), object(4)\n",
            "memory usage: 751.1+ KB\n"
          ],
          "name": "stdout"
        }
      ]
    },
    {
      "cell_type": "code",
      "metadata": {
        "colab": {
          "base_uri": "https://localhost:8080/"
        },
        "id": "ftDCgJgxP7zu",
        "outputId": "dbdd252d-efd3-4447-86a0-40571e4a2b69"
      },
      "source": [
        "rating_df.info()"
      ],
      "execution_count": null,
      "outputs": [
        {
          "output_type": "stream",
          "text": [
            "<class 'pandas.core.frame.DataFrame'>\n",
            "RangeIndex: 7813737 entries, 0 to 7813736\n",
            "Data columns (total 3 columns):\n",
            " #   Column    Dtype\n",
            "---  ------    -----\n",
            " 0   user_id   int64\n",
            " 1   anime_id  int64\n",
            " 2   rating    int64\n",
            "dtypes: int64(3)\n",
            "memory usage: 178.8 MB\n"
          ],
          "name": "stdout"
        }
      ]
    },
    {
      "cell_type": "code",
      "metadata": {
        "colab": {
          "base_uri": "https://localhost:8080/",
          "height": 195
        },
        "id": "8_DID2RnP7WB",
        "outputId": "41c35955-a7e7-4e68-da35-834a943d6158"
      },
      "source": [
        "df = pd.merge(anime_df, rating_df, on = 'anime_id')\n",
        "df.head()"
      ],
      "execution_count": null,
      "outputs": [
        {
          "output_type": "execute_result",
          "data": {
            "text/html": [
              "<div>\n",
              "<style scoped>\n",
              "    .dataframe tbody tr th:only-of-type {\n",
              "        vertical-align: middle;\n",
              "    }\n",
              "\n",
              "    .dataframe tbody tr th {\n",
              "        vertical-align: top;\n",
              "    }\n",
              "\n",
              "    .dataframe thead th {\n",
              "        text-align: right;\n",
              "    }\n",
              "</style>\n",
              "<table border=\"1\" class=\"dataframe\">\n",
              "  <thead>\n",
              "    <tr style=\"text-align: right;\">\n",
              "      <th></th>\n",
              "      <th>anime_id</th>\n",
              "      <th>name</th>\n",
              "      <th>genre</th>\n",
              "      <th>type</th>\n",
              "      <th>episodes</th>\n",
              "      <th>rating_x</th>\n",
              "      <th>members</th>\n",
              "      <th>user_id</th>\n",
              "      <th>rating_y</th>\n",
              "    </tr>\n",
              "  </thead>\n",
              "  <tbody>\n",
              "    <tr>\n",
              "      <th>0</th>\n",
              "      <td>32281</td>\n",
              "      <td>Kimi no Na wa.</td>\n",
              "      <td>Drama, Romance, School, Supernatural</td>\n",
              "      <td>Movie</td>\n",
              "      <td>1</td>\n",
              "      <td>9.37</td>\n",
              "      <td>200630</td>\n",
              "      <td>99</td>\n",
              "      <td>5</td>\n",
              "    </tr>\n",
              "    <tr>\n",
              "      <th>1</th>\n",
              "      <td>32281</td>\n",
              "      <td>Kimi no Na wa.</td>\n",
              "      <td>Drama, Romance, School, Supernatural</td>\n",
              "      <td>Movie</td>\n",
              "      <td>1</td>\n",
              "      <td>9.37</td>\n",
              "      <td>200630</td>\n",
              "      <td>152</td>\n",
              "      <td>10</td>\n",
              "    </tr>\n",
              "    <tr>\n",
              "      <th>2</th>\n",
              "      <td>32281</td>\n",
              "      <td>Kimi no Na wa.</td>\n",
              "      <td>Drama, Romance, School, Supernatural</td>\n",
              "      <td>Movie</td>\n",
              "      <td>1</td>\n",
              "      <td>9.37</td>\n",
              "      <td>200630</td>\n",
              "      <td>244</td>\n",
              "      <td>10</td>\n",
              "    </tr>\n",
              "    <tr>\n",
              "      <th>3</th>\n",
              "      <td>32281</td>\n",
              "      <td>Kimi no Na wa.</td>\n",
              "      <td>Drama, Romance, School, Supernatural</td>\n",
              "      <td>Movie</td>\n",
              "      <td>1</td>\n",
              "      <td>9.37</td>\n",
              "      <td>200630</td>\n",
              "      <td>271</td>\n",
              "      <td>10</td>\n",
              "    </tr>\n",
              "    <tr>\n",
              "      <th>4</th>\n",
              "      <td>32281</td>\n",
              "      <td>Kimi no Na wa.</td>\n",
              "      <td>Drama, Romance, School, Supernatural</td>\n",
              "      <td>Movie</td>\n",
              "      <td>1</td>\n",
              "      <td>9.37</td>\n",
              "      <td>200630</td>\n",
              "      <td>278</td>\n",
              "      <td>-1</td>\n",
              "    </tr>\n",
              "  </tbody>\n",
              "</table>\n",
              "</div>"
            ],
            "text/plain": [
              "   anime_id            name  ... user_id rating_y\n",
              "0     32281  Kimi no Na wa.  ...      99        5\n",
              "1     32281  Kimi no Na wa.  ...     152       10\n",
              "2     32281  Kimi no Na wa.  ...     244       10\n",
              "3     32281  Kimi no Na wa.  ...     271       10\n",
              "4     32281  Kimi no Na wa.  ...     278       -1\n",
              "\n",
              "[5 rows x 9 columns]"
            ]
          },
          "metadata": {
            "tags": []
          },
          "execution_count": 11
        }
      ]
    },
    {
      "cell_type": "code",
      "metadata": {
        "colab": {
          "base_uri": "https://localhost:8080/"
        },
        "id": "wvSW76olP_06",
        "outputId": "c01248b5-bdb1-4b94-b57e-7e1ab5bf15f0"
      },
      "source": [
        "df.shape"
      ],
      "execution_count": null,
      "outputs": [
        {
          "output_type": "execute_result",
          "data": {
            "text/plain": [
              "(7813611, 9)"
            ]
          },
          "metadata": {
            "tags": []
          },
          "execution_count": 12
        }
      ]
    },
    {
      "cell_type": "code",
      "metadata": {
        "colab": {
          "base_uri": "https://localhost:8080/",
          "height": 195
        },
        "id": "idSoLO4lQBvY",
        "outputId": "c838c4bc-9a75-465e-cc73-46e68ad7226f"
      },
      "source": [
        "df = df[df.rating_y != -1]\n",
        "df.head()"
      ],
      "execution_count": null,
      "outputs": [
        {
          "output_type": "execute_result",
          "data": {
            "text/html": [
              "<div>\n",
              "<style scoped>\n",
              "    .dataframe tbody tr th:only-of-type {\n",
              "        vertical-align: middle;\n",
              "    }\n",
              "\n",
              "    .dataframe tbody tr th {\n",
              "        vertical-align: top;\n",
              "    }\n",
              "\n",
              "    .dataframe thead th {\n",
              "        text-align: right;\n",
              "    }\n",
              "</style>\n",
              "<table border=\"1\" class=\"dataframe\">\n",
              "  <thead>\n",
              "    <tr style=\"text-align: right;\">\n",
              "      <th></th>\n",
              "      <th>anime_id</th>\n",
              "      <th>name</th>\n",
              "      <th>genre</th>\n",
              "      <th>type</th>\n",
              "      <th>episodes</th>\n",
              "      <th>rating_x</th>\n",
              "      <th>members</th>\n",
              "      <th>user_id</th>\n",
              "      <th>rating_y</th>\n",
              "    </tr>\n",
              "  </thead>\n",
              "  <tbody>\n",
              "    <tr>\n",
              "      <th>0</th>\n",
              "      <td>32281</td>\n",
              "      <td>Kimi no Na wa.</td>\n",
              "      <td>Drama, Romance, School, Supernatural</td>\n",
              "      <td>Movie</td>\n",
              "      <td>1</td>\n",
              "      <td>9.37</td>\n",
              "      <td>200630</td>\n",
              "      <td>99</td>\n",
              "      <td>5</td>\n",
              "    </tr>\n",
              "    <tr>\n",
              "      <th>1</th>\n",
              "      <td>32281</td>\n",
              "      <td>Kimi no Na wa.</td>\n",
              "      <td>Drama, Romance, School, Supernatural</td>\n",
              "      <td>Movie</td>\n",
              "      <td>1</td>\n",
              "      <td>9.37</td>\n",
              "      <td>200630</td>\n",
              "      <td>152</td>\n",
              "      <td>10</td>\n",
              "    </tr>\n",
              "    <tr>\n",
              "      <th>2</th>\n",
              "      <td>32281</td>\n",
              "      <td>Kimi no Na wa.</td>\n",
              "      <td>Drama, Romance, School, Supernatural</td>\n",
              "      <td>Movie</td>\n",
              "      <td>1</td>\n",
              "      <td>9.37</td>\n",
              "      <td>200630</td>\n",
              "      <td>244</td>\n",
              "      <td>10</td>\n",
              "    </tr>\n",
              "    <tr>\n",
              "      <th>3</th>\n",
              "      <td>32281</td>\n",
              "      <td>Kimi no Na wa.</td>\n",
              "      <td>Drama, Romance, School, Supernatural</td>\n",
              "      <td>Movie</td>\n",
              "      <td>1</td>\n",
              "      <td>9.37</td>\n",
              "      <td>200630</td>\n",
              "      <td>271</td>\n",
              "      <td>10</td>\n",
              "    </tr>\n",
              "    <tr>\n",
              "      <th>5</th>\n",
              "      <td>32281</td>\n",
              "      <td>Kimi no Na wa.</td>\n",
              "      <td>Drama, Romance, School, Supernatural</td>\n",
              "      <td>Movie</td>\n",
              "      <td>1</td>\n",
              "      <td>9.37</td>\n",
              "      <td>200630</td>\n",
              "      <td>322</td>\n",
              "      <td>10</td>\n",
              "    </tr>\n",
              "  </tbody>\n",
              "</table>\n",
              "</div>"
            ],
            "text/plain": [
              "   anime_id            name  ... user_id rating_y\n",
              "0     32281  Kimi no Na wa.  ...      99        5\n",
              "1     32281  Kimi no Na wa.  ...     152       10\n",
              "2     32281  Kimi no Na wa.  ...     244       10\n",
              "3     32281  Kimi no Na wa.  ...     271       10\n",
              "5     32281  Kimi no Na wa.  ...     322       10\n",
              "\n",
              "[5 rows x 9 columns]"
            ]
          },
          "metadata": {
            "tags": []
          },
          "execution_count": 13
        }
      ]
    },
    {
      "cell_type": "code",
      "metadata": {
        "colab": {
          "base_uri": "https://localhost:8080/"
        },
        "id": "aMMEozq9QETt",
        "outputId": "0d9fe0eb-9cb1-4b1c-ba84-2558b7d4f7d4"
      },
      "source": [
        "df.shape"
      ],
      "execution_count": null,
      "outputs": [
        {
          "output_type": "execute_result",
          "data": {
            "text/plain": [
              "(6337146, 9)"
            ]
          },
          "metadata": {
            "tags": []
          },
          "execution_count": 14
        }
      ]
    },
    {
      "cell_type": "code",
      "metadata": {
        "colab": {
          "base_uri": "https://localhost:8080/"
        },
        "id": "gLfrvNEMQFjl",
        "outputId": "3b1f5818-df18-4074-907c-2fe0e4327b1c"
      },
      "source": [
        "df.info()"
      ],
      "execution_count": null,
      "outputs": [
        {
          "output_type": "stream",
          "text": [
            "<class 'pandas.core.frame.DataFrame'>\n",
            "Int64Index: 6337146 entries, 0 to 7813608\n",
            "Data columns (total 9 columns):\n",
            " #   Column    Dtype  \n",
            "---  ------    -----  \n",
            " 0   anime_id  int64  \n",
            " 1   name      object \n",
            " 2   genre     object \n",
            " 3   type      object \n",
            " 4   episodes  object \n",
            " 5   rating_x  float64\n",
            " 6   members   int64  \n",
            " 7   user_id   int64  \n",
            " 8   rating_y  int64  \n",
            "dtypes: float64(1), int64(4), object(4)\n",
            "memory usage: 483.5+ MB\n"
          ],
          "name": "stdout"
        }
      ]
    },
    {
      "cell_type": "code",
      "metadata": {
        "colab": {
          "base_uri": "https://localhost:8080/"
        },
        "id": "qbgTGDb9QGye",
        "outputId": "e66dd900-e039-4275-97f2-762edfda4429"
      },
      "source": [
        "df.isnull().sum()"
      ],
      "execution_count": null,
      "outputs": [
        {
          "output_type": "execute_result",
          "data": {
            "text/plain": [
              "anime_id    0\n",
              "name        0\n",
              "genre       0\n",
              "type        0\n",
              "episodes    0\n",
              "rating_x    0\n",
              "members     0\n",
              "user_id     0\n",
              "rating_y    0\n",
              "dtype: int64"
            ]
          },
          "metadata": {
            "tags": []
          },
          "execution_count": 16
        }
      ]
    },
    {
      "cell_type": "code",
      "metadata": {
        "id": "tsBSZAnfQIcJ"
      },
      "source": [
        "df.drop('name', axis=1, inplace=True)"
      ],
      "execution_count": null,
      "outputs": []
    },
    {
      "cell_type": "code",
      "metadata": {
        "id": "qLZDiOwsQJk1"
      },
      "source": [
        "#df.drop('genre', axis=1, inplace=True)"
      ],
      "execution_count": null,
      "outputs": []
    },
    {
      "cell_type": "code",
      "metadata": {
        "colab": {
          "base_uri": "https://localhost:8080/"
        },
        "id": "y-aaramOQK3W",
        "outputId": "15fffa9a-14fc-42f2-8ac7-ad93b208c427"
      },
      "source": [
        "df.info()"
      ],
      "execution_count": null,
      "outputs": [
        {
          "output_type": "stream",
          "text": [
            "<class 'pandas.core.frame.DataFrame'>\n",
            "Int64Index: 6337146 entries, 0 to 7813608\n",
            "Data columns (total 8 columns):\n",
            " #   Column    Dtype  \n",
            "---  ------    -----  \n",
            " 0   anime_id  int64  \n",
            " 1   genre     object \n",
            " 2   type      object \n",
            " 3   episodes  object \n",
            " 4   rating_x  float64\n",
            " 5   members   int64  \n",
            " 6   user_id   int64  \n",
            " 7   rating_y  int64  \n",
            "dtypes: float64(1), int64(4), object(3)\n",
            "memory usage: 435.1+ MB\n"
          ],
          "name": "stdout"
        }
      ]
    },
    {
      "cell_type": "code",
      "metadata": {
        "id": "t_c_OckEQxpP"
      },
      "source": [
        "df = df.loc[df['episodes'] != 'Unknown']"
      ],
      "execution_count": null,
      "outputs": []
    },
    {
      "cell_type": "code",
      "metadata": {
        "id": "pDTzOlmfQyoK"
      },
      "source": [
        "df.episodes = df.episodes.astype('int64')"
      ],
      "execution_count": null,
      "outputs": []
    },
    {
      "cell_type": "code",
      "metadata": {
        "colab": {
          "base_uri": "https://localhost:8080/"
        },
        "id": "Nve3ywuqQzn0",
        "outputId": "f4824f96-124f-4027-d641-aa9f4e03e8e2"
      },
      "source": [
        "df.info()"
      ],
      "execution_count": null,
      "outputs": [
        {
          "output_type": "stream",
          "text": [
            "<class 'pandas.core.frame.DataFrame'>\n",
            "Int64Index: 6337144 entries, 0 to 7813608\n",
            "Data columns (total 8 columns):\n",
            " #   Column    Dtype  \n",
            "---  ------    -----  \n",
            " 0   anime_id  int64  \n",
            " 1   genre     object \n",
            " 2   type      object \n",
            " 3   episodes  int64  \n",
            " 4   rating_x  float64\n",
            " 5   members   int64  \n",
            " 6   user_id   int64  \n",
            " 7   rating_y  int64  \n",
            "dtypes: float64(1), int64(5), object(2)\n",
            "memory usage: 435.1+ MB\n"
          ],
          "name": "stdout"
        }
      ]
    },
    {
      "cell_type": "code",
      "metadata": {
        "colab": {
          "base_uri": "https://localhost:8080/"
        },
        "id": "A9vuUFfHRKwm",
        "outputId": "8818f5c2-9d2a-439e-dcf6-346528f149a5"
      },
      "source": [
        "len(df.anime_id.unique())"
      ],
      "execution_count": null,
      "outputs": [
        {
          "output_type": "execute_result",
          "data": {
            "text/plain": [
              "9890"
            ]
          },
          "metadata": {
            "tags": []
          },
          "execution_count": 23
        }
      ]
    },
    {
      "cell_type": "code",
      "metadata": {
        "id": "OAVmraS_Rgbo"
      },
      "source": [
        "y = df[\"rating_y\"]\n",
        "X = df.drop(\"rating_y\", axis=1)"
      ],
      "execution_count": null,
      "outputs": []
    },
    {
      "cell_type": "code",
      "metadata": {
        "colab": {
          "base_uri": "https://localhost:8080/",
          "height": 402
        },
        "id": "o6f20F85RjZN",
        "outputId": "94e86759-5153-4c85-9c9c-b5435954b736"
      },
      "source": [
        "X"
      ],
      "execution_count": null,
      "outputs": [
        {
          "output_type": "execute_result",
          "data": {
            "text/html": [
              "<div>\n",
              "<style scoped>\n",
              "    .dataframe tbody tr th:only-of-type {\n",
              "        vertical-align: middle;\n",
              "    }\n",
              "\n",
              "    .dataframe tbody tr th {\n",
              "        vertical-align: top;\n",
              "    }\n",
              "\n",
              "    .dataframe thead th {\n",
              "        text-align: right;\n",
              "    }\n",
              "</style>\n",
              "<table border=\"1\" class=\"dataframe\">\n",
              "  <thead>\n",
              "    <tr style=\"text-align: right;\">\n",
              "      <th></th>\n",
              "      <th>anime_id</th>\n",
              "      <th>genre</th>\n",
              "      <th>type</th>\n",
              "      <th>episodes</th>\n",
              "      <th>rating_x</th>\n",
              "      <th>members</th>\n",
              "      <th>user_id</th>\n",
              "    </tr>\n",
              "  </thead>\n",
              "  <tbody>\n",
              "    <tr>\n",
              "      <th>0</th>\n",
              "      <td>32281</td>\n",
              "      <td>Drama, Romance, School, Supernatural</td>\n",
              "      <td>Movie</td>\n",
              "      <td>1</td>\n",
              "      <td>9.37</td>\n",
              "      <td>200630</td>\n",
              "      <td>99</td>\n",
              "    </tr>\n",
              "    <tr>\n",
              "      <th>1</th>\n",
              "      <td>32281</td>\n",
              "      <td>Drama, Romance, School, Supernatural</td>\n",
              "      <td>Movie</td>\n",
              "      <td>1</td>\n",
              "      <td>9.37</td>\n",
              "      <td>200630</td>\n",
              "      <td>152</td>\n",
              "    </tr>\n",
              "    <tr>\n",
              "      <th>2</th>\n",
              "      <td>32281</td>\n",
              "      <td>Drama, Romance, School, Supernatural</td>\n",
              "      <td>Movie</td>\n",
              "      <td>1</td>\n",
              "      <td>9.37</td>\n",
              "      <td>200630</td>\n",
              "      <td>244</td>\n",
              "    </tr>\n",
              "    <tr>\n",
              "      <th>3</th>\n",
              "      <td>32281</td>\n",
              "      <td>Drama, Romance, School, Supernatural</td>\n",
              "      <td>Movie</td>\n",
              "      <td>1</td>\n",
              "      <td>9.37</td>\n",
              "      <td>200630</td>\n",
              "      <td>271</td>\n",
              "    </tr>\n",
              "    <tr>\n",
              "      <th>5</th>\n",
              "      <td>32281</td>\n",
              "      <td>Drama, Romance, School, Supernatural</td>\n",
              "      <td>Movie</td>\n",
              "      <td>1</td>\n",
              "      <td>9.37</td>\n",
              "      <td>200630</td>\n",
              "      <td>322</td>\n",
              "    </tr>\n",
              "    <tr>\n",
              "      <th>...</th>\n",
              "      <td>...</td>\n",
              "      <td>...</td>\n",
              "      <td>...</td>\n",
              "      <td>...</td>\n",
              "      <td>...</td>\n",
              "      <td>...</td>\n",
              "      <td>...</td>\n",
              "    </tr>\n",
              "    <tr>\n",
              "      <th>7813597</th>\n",
              "      <td>9316</td>\n",
              "      <td>Hentai</td>\n",
              "      <td>OVA</td>\n",
              "      <td>1</td>\n",
              "      <td>4.15</td>\n",
              "      <td>211</td>\n",
              "      <td>58483</td>\n",
              "    </tr>\n",
              "    <tr>\n",
              "      <th>7813600</th>\n",
              "      <td>5543</td>\n",
              "      <td>Hentai</td>\n",
              "      <td>OVA</td>\n",
              "      <td>1</td>\n",
              "      <td>4.28</td>\n",
              "      <td>183</td>\n",
              "      <td>49503</td>\n",
              "    </tr>\n",
              "    <tr>\n",
              "      <th>7813601</th>\n",
              "      <td>5543</td>\n",
              "      <td>Hentai</td>\n",
              "      <td>OVA</td>\n",
              "      <td>1</td>\n",
              "      <td>4.28</td>\n",
              "      <td>183</td>\n",
              "      <td>58483</td>\n",
              "    </tr>\n",
              "    <tr>\n",
              "      <th>7813604</th>\n",
              "      <td>5621</td>\n",
              "      <td>Hentai</td>\n",
              "      <td>OVA</td>\n",
              "      <td>4</td>\n",
              "      <td>4.88</td>\n",
              "      <td>219</td>\n",
              "      <td>49503</td>\n",
              "    </tr>\n",
              "    <tr>\n",
              "      <th>7813608</th>\n",
              "      <td>6133</td>\n",
              "      <td>Hentai</td>\n",
              "      <td>OVA</td>\n",
              "      <td>1</td>\n",
              "      <td>4.98</td>\n",
              "      <td>175</td>\n",
              "      <td>60365</td>\n",
              "    </tr>\n",
              "  </tbody>\n",
              "</table>\n",
              "<p>6337144 rows × 7 columns</p>\n",
              "</div>"
            ],
            "text/plain": [
              "         anime_id                                 genre  ... members  user_id\n",
              "0           32281  Drama, Romance, School, Supernatural  ...  200630       99\n",
              "1           32281  Drama, Romance, School, Supernatural  ...  200630      152\n",
              "2           32281  Drama, Romance, School, Supernatural  ...  200630      244\n",
              "3           32281  Drama, Romance, School, Supernatural  ...  200630      271\n",
              "5           32281  Drama, Romance, School, Supernatural  ...  200630      322\n",
              "...           ...                                   ...  ...     ...      ...\n",
              "7813597      9316                                Hentai  ...     211    58483\n",
              "7813600      5543                                Hentai  ...     183    49503\n",
              "7813601      5543                                Hentai  ...     183    58483\n",
              "7813604      5621                                Hentai  ...     219    49503\n",
              "7813608      6133                                Hentai  ...     175    60365\n",
              "\n",
              "[6337144 rows x 7 columns]"
            ]
          },
          "metadata": {
            "tags": []
          },
          "execution_count": 25
        }
      ]
    },
    {
      "cell_type": "code",
      "metadata": {
        "colab": {
          "base_uri": "https://localhost:8080/"
        },
        "id": "0KXbUwinRkBh",
        "outputId": "e54c84dd-c0ba-4ce0-8781-bfbdd7db39e7"
      },
      "source": [
        "y"
      ],
      "execution_count": null,
      "outputs": [
        {
          "output_type": "execute_result",
          "data": {
            "text/plain": [
              "0           5\n",
              "1          10\n",
              "2          10\n",
              "3          10\n",
              "5          10\n",
              "           ..\n",
              "7813597     1\n",
              "7813600     4\n",
              "7813601     1\n",
              "7813604     6\n",
              "7813608     4\n",
              "Name: rating_y, Length: 6337144, dtype: int64"
            ]
          },
          "metadata": {
            "tags": []
          },
          "execution_count": 26
        }
      ]
    },
    {
      "cell_type": "markdown",
      "metadata": {
        "id": "o22d-9TkU0kS"
      },
      "source": [
        "**Процесс**"
      ]
    },
    {
      "cell_type": "code",
      "metadata": {
        "id": "VEvw9kT9U2ia"
      },
      "source": [
        "from sklearn.metrics import mean_squared_error\n",
        "from sklearn.model_selection import train_test_split"
      ],
      "execution_count": null,
      "outputs": []
    },
    {
      "cell_type": "code",
      "metadata": {
        "id": "Gso-RMCHQdE1"
      },
      "source": [
        "from catboost import CatBoostRegressor, Pool"
      ],
      "execution_count": null,
      "outputs": []
    },
    {
      "cell_type": "code",
      "metadata": {
        "colab": {
          "base_uri": "https://localhost:8080/"
        },
        "id": "0igenrp-S0GN",
        "outputId": "0c825d02-8ef0-4113-ffd8-932da00ce9f3"
      },
      "source": [
        "categorical_columns = [x for x in df.columns if df[x].dtype == 'object']\n",
        "categorical_columns"
      ],
      "execution_count": null,
      "outputs": [
        {
          "output_type": "execute_result",
          "data": {
            "text/plain": [
              "['genre', 'type']"
            ]
          },
          "metadata": {
            "tags": []
          },
          "execution_count": 36
        }
      ]
    },
    {
      "cell_type": "code",
      "metadata": {
        "id": "bNhV2S4SRryH"
      },
      "source": [
        "model = CatBoostRegressor(iterations=500, depth=3, learning_rate=0.1, loss_function='RMSE', cat_features=categorical_columns, verbose=True)"
      ],
      "execution_count": null,
      "outputs": []
    },
    {
      "cell_type": "code",
      "metadata": {
        "id": "9cYLEYdkUKjj"
      },
      "source": [
        "X_train, X_test, y_train, y_test = train_test_split(X, y, train_size=0.9, random_state=1)"
      ],
      "execution_count": null,
      "outputs": []
    },
    {
      "cell_type": "code",
      "metadata": {
        "colab": {
          "base_uri": "https://localhost:8080/"
        },
        "id": "03PUBiPYUAiA",
        "outputId": "fef13458-5ef6-4940-a511-2bb4d38c1d4c"
      },
      "source": [
        "X_train.shape, y_train.shape"
      ],
      "execution_count": null,
      "outputs": [
        {
          "output_type": "execute_result",
          "data": {
            "text/plain": [
              "((5703429, 7), (5703429,))"
            ]
          },
          "metadata": {
            "tags": []
          },
          "execution_count": 40
        }
      ]
    },
    {
      "cell_type": "code",
      "metadata": {
        "colab": {
          "base_uri": "https://localhost:8080/"
        },
        "id": "eS5iLFU_SFnf",
        "outputId": "eb005320-ff02-4c84-85da-f11bd4d1580f"
      },
      "source": [
        "model.fit(X_train, y_train)"
      ],
      "execution_count": null,
      "outputs": [
        {
          "output_type": "stream",
          "text": [
            "0:\tlearn: 1.5505063\ttotal: 1.9s\tremaining: 15m 47s\n",
            "1:\tlearn: 1.5323494\ttotal: 3.6s\tremaining: 14m 56s\n",
            "2:\tlearn: 1.5171803\ttotal: 5.09s\tremaining: 14m 3s\n",
            "3:\tlearn: 1.5043471\ttotal: 6.67s\tremaining: 13m 46s\n",
            "4:\tlearn: 1.4936023\ttotal: 8.07s\tremaining: 13m 19s\n",
            "5:\tlearn: 1.4845307\ttotal: 9.57s\tremaining: 13m 7s\n",
            "6:\tlearn: 1.4768303\ttotal: 11s\tremaining: 12m 52s\n",
            "7:\tlearn: 1.4704173\ttotal: 12.5s\tremaining: 12m 46s\n",
            "8:\tlearn: 1.4650131\ttotal: 14s\tremaining: 12m 42s\n",
            "9:\tlearn: 1.4604726\ttotal: 15.5s\tremaining: 12m 38s\n",
            "10:\tlearn: 1.4567053\ttotal: 16.9s\tremaining: 12m 30s\n",
            "11:\tlearn: 1.4533059\ttotal: 18.2s\tremaining: 12m 22s\n",
            "12:\tlearn: 1.4506072\ttotal: 19.7s\tremaining: 12m 19s\n",
            "13:\tlearn: 1.4481751\ttotal: 21.2s\tremaining: 12m 16s\n",
            "14:\tlearn: 1.4461953\ttotal: 22.6s\tremaining: 12m 10s\n",
            "15:\tlearn: 1.4444217\ttotal: 24.1s\tremaining: 12m 8s\n",
            "16:\tlearn: 1.4429601\ttotal: 25.6s\tremaining: 12m 6s\n",
            "17:\tlearn: 1.4417250\ttotal: 27s\tremaining: 12m 4s\n",
            "18:\tlearn: 1.4406322\ttotal: 28.4s\tremaining: 11m 59s\n",
            "19:\tlearn: 1.4397321\ttotal: 29.9s\tremaining: 11m 57s\n",
            "20:\tlearn: 1.4389321\ttotal: 31.4s\tremaining: 11m 55s\n",
            "21:\tlearn: 1.4382503\ttotal: 32.9s\tremaining: 11m 53s\n",
            "22:\tlearn: 1.4376682\ttotal: 34.3s\tremaining: 11m 51s\n",
            "23:\tlearn: 1.4371705\ttotal: 35.8s\tremaining: 11m 49s\n",
            "24:\tlearn: 1.4367365\ttotal: 37.2s\tremaining: 11m 46s\n",
            "25:\tlearn: 1.4363852\ttotal: 38.6s\tremaining: 11m 44s\n",
            "26:\tlearn: 1.4360629\ttotal: 40s\tremaining: 11m 40s\n",
            "27:\tlearn: 1.4357851\ttotal: 41.4s\tremaining: 11m 37s\n",
            "28:\tlearn: 1.4355333\ttotal: 42.8s\tremaining: 11m 35s\n",
            "29:\tlearn: 1.4353296\ttotal: 44.1s\tremaining: 11m 31s\n",
            "30:\tlearn: 1.4351426\ttotal: 45.6s\tremaining: 11m 29s\n",
            "31:\tlearn: 1.4349816\ttotal: 47s\tremaining: 11m 27s\n",
            "32:\tlearn: 1.4348415\ttotal: 48.4s\tremaining: 11m 24s\n",
            "33:\tlearn: 1.4346891\ttotal: 49.8s\tremaining: 11m 22s\n",
            "34:\tlearn: 1.4345819\ttotal: 51.3s\tremaining: 11m 21s\n",
            "35:\tlearn: 1.4344788\ttotal: 52.6s\tremaining: 11m 18s\n",
            "36:\tlearn: 1.4343926\ttotal: 53.9s\tremaining: 11m 14s\n",
            "37:\tlearn: 1.4343127\ttotal: 55s\tremaining: 11m 9s\n",
            "38:\tlearn: 1.4342457\ttotal: 56.7s\tremaining: 11m 10s\n",
            "39:\tlearn: 1.4341861\ttotal: 58.1s\tremaining: 11m 8s\n",
            "40:\tlearn: 1.4341326\ttotal: 59.5s\tremaining: 11m 5s\n",
            "41:\tlearn: 1.4340820\ttotal: 1m\tremaining: 11m 4s\n",
            "42:\tlearn: 1.4340420\ttotal: 1m 2s\tremaining: 11m 1s\n",
            "43:\tlearn: 1.4339789\ttotal: 1m 3s\tremaining: 10m 58s\n",
            "44:\tlearn: 1.4339340\ttotal: 1m 4s\tremaining: 10m 57s\n",
            "45:\tlearn: 1.4338990\ttotal: 1m 6s\tremaining: 10m 56s\n",
            "46:\tlearn: 1.4338705\ttotal: 1m 8s\tremaining: 10m 55s\n",
            "47:\tlearn: 1.4338418\ttotal: 1m 9s\tremaining: 10m 52s\n",
            "48:\tlearn: 1.4338019\ttotal: 1m 10s\tremaining: 10m 51s\n",
            "49:\tlearn: 1.4337591\ttotal: 1m 12s\tremaining: 10m 49s\n",
            "50:\tlearn: 1.4337202\ttotal: 1m 13s\tremaining: 10m 45s\n",
            "51:\tlearn: 1.4336918\ttotal: 1m 14s\tremaining: 10m 41s\n",
            "52:\tlearn: 1.4336650\ttotal: 1m 15s\tremaining: 10m 35s\n",
            "53:\tlearn: 1.4336403\ttotal: 1m 16s\tremaining: 10m 31s\n",
            "54:\tlearn: 1.4336210\ttotal: 1m 17s\tremaining: 10m 28s\n",
            "55:\tlearn: 1.4335646\ttotal: 1m 19s\tremaining: 10m 26s\n",
            "56:\tlearn: 1.4335480\ttotal: 1m 20s\tremaining: 10m 23s\n",
            "57:\tlearn: 1.4335218\ttotal: 1m 21s\tremaining: 10m 21s\n",
            "58:\tlearn: 1.4335057\ttotal: 1m 22s\tremaining: 10m 17s\n",
            "59:\tlearn: 1.4334794\ttotal: 1m 23s\tremaining: 10m 14s\n",
            "60:\tlearn: 1.4334556\ttotal: 1m 25s\tremaining: 10m 13s\n",
            "61:\tlearn: 1.4334408\ttotal: 1m 26s\tremaining: 10m 10s\n",
            "62:\tlearn: 1.4334279\ttotal: 1m 27s\tremaining: 10m 7s\n",
            "63:\tlearn: 1.4334056\ttotal: 1m 28s\tremaining: 10m 4s\n",
            "64:\tlearn: 1.4333845\ttotal: 1m 30s\tremaining: 10m 3s\n",
            "65:\tlearn: 1.4333724\ttotal: 1m 31s\tremaining: 10m 2s\n",
            "66:\tlearn: 1.4333568\ttotal: 1m 33s\tremaining: 10m 1s\n",
            "67:\tlearn: 1.4333401\ttotal: 1m 34s\tremaining: 9m 59s\n",
            "68:\tlearn: 1.4333068\ttotal: 1m 35s\tremaining: 9m 57s\n",
            "69:\tlearn: 1.4332896\ttotal: 1m 36s\tremaining: 9m 54s\n",
            "70:\tlearn: 1.4332793\ttotal: 1m 37s\tremaining: 9m 51s\n",
            "71:\tlearn: 1.4332434\ttotal: 1m 39s\tremaining: 9m 50s\n",
            "72:\tlearn: 1.4332213\ttotal: 1m 40s\tremaining: 9m 50s\n",
            "73:\tlearn: 1.4332110\ttotal: 1m 41s\tremaining: 9m 47s\n",
            "74:\tlearn: 1.4331918\ttotal: 1m 43s\tremaining: 9m 44s\n",
            "75:\tlearn: 1.4331776\ttotal: 1m 44s\tremaining: 9m 42s\n",
            "76:\tlearn: 1.4331670\ttotal: 1m 45s\tremaining: 9m 39s\n",
            "77:\tlearn: 1.4331594\ttotal: 1m 46s\tremaining: 9m 38s\n",
            "78:\tlearn: 1.4331055\ttotal: 1m 48s\tremaining: 9m 38s\n",
            "79:\tlearn: 1.4330819\ttotal: 1m 49s\tremaining: 9m 36s\n",
            "80:\tlearn: 1.4330502\ttotal: 1m 51s\tremaining: 9m 35s\n",
            "81:\tlearn: 1.4330288\ttotal: 1m 52s\tremaining: 9m 34s\n",
            "82:\tlearn: 1.4330131\ttotal: 1m 53s\tremaining: 9m 32s\n",
            "83:\tlearn: 1.4330047\ttotal: 1m 55s\tremaining: 9m 30s\n",
            "84:\tlearn: 1.4329971\ttotal: 1m 56s\tremaining: 9m 29s\n",
            "85:\tlearn: 1.4329854\ttotal: 1m 57s\tremaining: 9m 27s\n",
            "86:\tlearn: 1.4329781\ttotal: 1m 58s\tremaining: 9m 24s\n",
            "87:\tlearn: 1.4329732\ttotal: 2m\tremaining: 9m 23s\n",
            "88:\tlearn: 1.4329680\ttotal: 2m 2s\tremaining: 9m 23s\n",
            "89:\tlearn: 1.4329561\ttotal: 2m 3s\tremaining: 9m 22s\n",
            "90:\tlearn: 1.4329495\ttotal: 2m 4s\tremaining: 9m 20s\n",
            "91:\tlearn: 1.4329327\ttotal: 2m 6s\tremaining: 9m 19s\n",
            "92:\tlearn: 1.4328994\ttotal: 2m 7s\tremaining: 9m 18s\n",
            "93:\tlearn: 1.4328688\ttotal: 2m 9s\tremaining: 9m 17s\n",
            "94:\tlearn: 1.4328302\ttotal: 2m 10s\tremaining: 9m 16s\n",
            "95:\tlearn: 1.4328090\ttotal: 2m 11s\tremaining: 9m 14s\n",
            "96:\tlearn: 1.4327981\ttotal: 2m 13s\tremaining: 9m 13s\n",
            "97:\tlearn: 1.4327819\ttotal: 2m 14s\tremaining: 9m 11s\n",
            "98:\tlearn: 1.4327753\ttotal: 2m 15s\tremaining: 9m 10s\n",
            "99:\tlearn: 1.4327629\ttotal: 2m 17s\tremaining: 9m 9s\n",
            "100:\tlearn: 1.4327273\ttotal: 2m 18s\tremaining: 9m 8s\n",
            "101:\tlearn: 1.4327230\ttotal: 2m 20s\tremaining: 9m 6s\n",
            "102:\tlearn: 1.4327163\ttotal: 2m 21s\tremaining: 9m 5s\n",
            "103:\tlearn: 1.4327066\ttotal: 2m 22s\tremaining: 9m 3s\n",
            "104:\tlearn: 1.4326977\ttotal: 2m 24s\tremaining: 9m 2s\n",
            "105:\tlearn: 1.4326870\ttotal: 2m 25s\tremaining: 9m\n",
            "106:\tlearn: 1.4326817\ttotal: 2m 26s\tremaining: 8m 58s\n",
            "107:\tlearn: 1.4326501\ttotal: 2m 27s\tremaining: 8m 57s\n",
            "108:\tlearn: 1.4326399\ttotal: 2m 29s\tremaining: 8m 55s\n",
            "109:\tlearn: 1.4326338\ttotal: 2m 30s\tremaining: 8m 52s\n",
            "110:\tlearn: 1.4326302\ttotal: 2m 31s\tremaining: 8m 49s\n",
            "111:\tlearn: 1.4325892\ttotal: 2m 32s\tremaining: 8m 48s\n",
            "112:\tlearn: 1.4325769\ttotal: 2m 34s\tremaining: 8m 47s\n",
            "113:\tlearn: 1.4325533\ttotal: 2m 35s\tremaining: 8m 46s\n",
            "114:\tlearn: 1.4325482\ttotal: 2m 36s\tremaining: 8m 45s\n",
            "115:\tlearn: 1.4325451\ttotal: 2m 37s\tremaining: 8m 42s\n",
            "116:\tlearn: 1.4325421\ttotal: 2m 39s\tremaining: 8m 40s\n",
            "117:\tlearn: 1.4325382\ttotal: 2m 40s\tremaining: 8m 38s\n",
            "118:\tlearn: 1.4325341\ttotal: 2m 41s\tremaining: 8m 36s\n",
            "119:\tlearn: 1.4325135\ttotal: 2m 42s\tremaining: 8m 35s\n",
            "120:\tlearn: 1.4324800\ttotal: 2m 44s\tremaining: 8m 34s\n",
            "121:\tlearn: 1.4324671\ttotal: 2m 45s\tremaining: 8m 33s\n",
            "122:\tlearn: 1.4324548\ttotal: 2m 46s\tremaining: 8m 31s\n",
            "123:\tlearn: 1.4324481\ttotal: 2m 47s\tremaining: 8m 28s\n",
            "124:\tlearn: 1.4324434\ttotal: 2m 48s\tremaining: 8m 26s\n",
            "125:\tlearn: 1.4324334\ttotal: 2m 50s\tremaining: 8m 25s\n",
            "126:\tlearn: 1.4324139\ttotal: 2m 51s\tremaining: 8m 24s\n",
            "127:\tlearn: 1.4324046\ttotal: 2m 53s\tremaining: 8m 23s\n",
            "128:\tlearn: 1.4323752\ttotal: 2m 54s\tremaining: 8m 22s\n",
            "129:\tlearn: 1.4323620\ttotal: 2m 56s\tremaining: 8m 21s\n",
            "130:\tlearn: 1.4323531\ttotal: 2m 57s\tremaining: 8m 19s\n",
            "131:\tlearn: 1.4323502\ttotal: 2m 58s\tremaining: 8m 18s\n",
            "132:\tlearn: 1.4323439\ttotal: 2m 59s\tremaining: 8m 15s\n",
            "133:\tlearn: 1.4323350\ttotal: 3m 1s\tremaining: 8m 14s\n",
            "134:\tlearn: 1.4323307\ttotal: 3m 2s\tremaining: 8m 13s\n",
            "135:\tlearn: 1.4323275\ttotal: 3m 4s\tremaining: 8m 12s\n",
            "136:\tlearn: 1.4322954\ttotal: 3m 5s\tremaining: 8m 11s\n",
            "137:\tlearn: 1.4322895\ttotal: 3m 6s\tremaining: 8m 9s\n",
            "138:\tlearn: 1.4322876\ttotal: 3m 7s\tremaining: 8m 8s\n",
            "139:\tlearn: 1.4322722\ttotal: 3m 9s\tremaining: 8m 6s\n",
            "140:\tlearn: 1.4322680\ttotal: 3m 10s\tremaining: 8m 5s\n",
            "141:\tlearn: 1.4322647\ttotal: 3m 11s\tremaining: 8m 3s\n",
            "142:\tlearn: 1.4322600\ttotal: 3m 12s\tremaining: 8m 1s\n",
            "143:\tlearn: 1.4322577\ttotal: 3m 14s\tremaining: 7m 59s\n",
            "144:\tlearn: 1.4322428\ttotal: 3m 15s\tremaining: 7m 58s\n",
            "145:\tlearn: 1.4322326\ttotal: 3m 17s\tremaining: 7m 57s\n",
            "146:\tlearn: 1.4322285\ttotal: 3m 18s\tremaining: 7m 56s\n",
            "147:\tlearn: 1.4322033\ttotal: 3m 19s\tremaining: 7m 55s\n",
            "148:\tlearn: 1.4321717\ttotal: 3m 21s\tremaining: 7m 54s\n",
            "149:\tlearn: 1.4321679\ttotal: 3m 22s\tremaining: 7m 53s\n",
            "150:\tlearn: 1.4321410\ttotal: 3m 23s\tremaining: 7m 50s\n",
            "151:\tlearn: 1.4321392\ttotal: 3m 24s\tremaining: 7m 49s\n",
            "152:\tlearn: 1.4321358\ttotal: 3m 26s\tremaining: 7m 47s\n",
            "153:\tlearn: 1.4321177\ttotal: 3m 27s\tremaining: 7m 46s\n",
            "154:\tlearn: 1.4321145\ttotal: 3m 29s\tremaining: 7m 45s\n",
            "155:\tlearn: 1.4321061\ttotal: 3m 30s\tremaining: 7m 44s\n",
            "156:\tlearn: 1.4321015\ttotal: 3m 31s\tremaining: 7m 42s\n",
            "157:\tlearn: 1.4320944\ttotal: 3m 33s\tremaining: 7m 41s\n",
            "158:\tlearn: 1.4320906\ttotal: 3m 33s\tremaining: 7m 38s\n",
            "159:\tlearn: 1.4320649\ttotal: 3m 35s\tremaining: 7m 37s\n",
            "160:\tlearn: 1.4320531\ttotal: 3m 36s\tremaining: 7m 36s\n",
            "161:\tlearn: 1.4320346\ttotal: 3m 38s\tremaining: 7m 35s\n",
            "162:\tlearn: 1.4320175\ttotal: 3m 39s\tremaining: 7m 33s\n",
            "163:\tlearn: 1.4320017\ttotal: 3m 40s\tremaining: 7m 32s\n",
            "164:\tlearn: 1.4319920\ttotal: 3m 42s\tremaining: 7m 31s\n",
            "165:\tlearn: 1.4319810\ttotal: 3m 43s\tremaining: 7m 30s\n",
            "166:\tlearn: 1.4319662\ttotal: 3m 45s\tremaining: 7m 29s\n",
            "167:\tlearn: 1.4319625\ttotal: 3m 46s\tremaining: 7m 27s\n",
            "168:\tlearn: 1.4319476\ttotal: 3m 47s\tremaining: 7m 26s\n",
            "169:\tlearn: 1.4319349\ttotal: 3m 49s\tremaining: 7m 25s\n",
            "170:\tlearn: 1.4319319\ttotal: 3m 50s\tremaining: 7m 24s\n",
            "171:\tlearn: 1.4319174\ttotal: 3m 52s\tremaining: 7m 23s\n",
            "172:\tlearn: 1.4319139\ttotal: 3m 53s\tremaining: 7m 21s\n",
            "173:\tlearn: 1.4319046\ttotal: 3m 54s\tremaining: 7m 19s\n",
            "174:\tlearn: 1.4318899\ttotal: 3m 56s\tremaining: 7m 18s\n",
            "175:\tlearn: 1.4318873\ttotal: 3m 57s\tremaining: 7m 17s\n",
            "176:\tlearn: 1.4318751\ttotal: 3m 59s\tremaining: 7m 16s\n",
            "177:\tlearn: 1.4318513\ttotal: 4m\tremaining: 7m 15s\n",
            "178:\tlearn: 1.4318409\ttotal: 4m 2s\tremaining: 7m 13s\n",
            "179:\tlearn: 1.4318287\ttotal: 4m 3s\tremaining: 7m 12s\n",
            "180:\tlearn: 1.4318189\ttotal: 4m 4s\tremaining: 7m 11s\n",
            "181:\tlearn: 1.4318062\ttotal: 4m 6s\tremaining: 7m 10s\n",
            "182:\tlearn: 1.4317778\ttotal: 4m 7s\tremaining: 7m 9s\n",
            "183:\tlearn: 1.4317653\ttotal: 4m 9s\tremaining: 7m 8s\n",
            "184:\tlearn: 1.4317522\ttotal: 4m 10s\tremaining: 7m 6s\n",
            "185:\tlearn: 1.4317430\ttotal: 4m 12s\tremaining: 7m 5s\n",
            "186:\tlearn: 1.4317352\ttotal: 4m 13s\tremaining: 7m 3s\n",
            "187:\tlearn: 1.4317284\ttotal: 4m 14s\tremaining: 7m 1s\n",
            "188:\tlearn: 1.4317147\ttotal: 4m 15s\tremaining: 7m\n",
            "189:\tlearn: 1.4317114\ttotal: 4m 16s\tremaining: 6m 58s\n",
            "190:\tlearn: 1.4317009\ttotal: 4m 18s\tremaining: 6m 57s\n",
            "191:\tlearn: 1.4316927\ttotal: 4m 19s\tremaining: 6m 56s\n",
            "192:\tlearn: 1.4316899\ttotal: 4m 20s\tremaining: 6m 54s\n",
            "193:\tlearn: 1.4316871\ttotal: 4m 22s\tremaining: 6m 53s\n",
            "194:\tlearn: 1.4316778\ttotal: 4m 23s\tremaining: 6m 52s\n",
            "195:\tlearn: 1.4316604\ttotal: 4m 24s\tremaining: 6m 50s\n",
            "196:\tlearn: 1.4316580\ttotal: 4m 26s\tremaining: 6m 49s\n",
            "197:\tlearn: 1.4316423\ttotal: 4m 27s\tremaining: 6m 48s\n",
            "198:\tlearn: 1.4316264\ttotal: 4m 28s\tremaining: 6m 46s\n",
            "199:\tlearn: 1.4316182\ttotal: 4m 30s\tremaining: 6m 45s\n",
            "200:\tlearn: 1.4316159\ttotal: 4m 31s\tremaining: 6m 44s\n",
            "201:\tlearn: 1.4316052\ttotal: 4m 33s\tremaining: 6m 43s\n",
            "202:\tlearn: 1.4315910\ttotal: 4m 34s\tremaining: 6m 41s\n",
            "203:\tlearn: 1.4315812\ttotal: 4m 35s\tremaining: 6m 40s\n",
            "204:\tlearn: 1.4315752\ttotal: 4m 37s\tremaining: 6m 38s\n",
            "205:\tlearn: 1.4315698\ttotal: 4m 38s\tremaining: 6m 36s\n",
            "206:\tlearn: 1.4315474\ttotal: 4m 39s\tremaining: 6m 35s\n",
            "207:\tlearn: 1.4315430\ttotal: 4m 40s\tremaining: 6m 33s\n",
            "208:\tlearn: 1.4315359\ttotal: 4m 42s\tremaining: 6m 32s\n",
            "209:\tlearn: 1.4315274\ttotal: 4m 43s\tremaining: 6m 30s\n",
            "210:\tlearn: 1.4315250\ttotal: 4m 44s\tremaining: 6m 29s\n",
            "211:\tlearn: 1.4315127\ttotal: 4m 45s\tremaining: 6m 28s\n",
            "212:\tlearn: 1.4315062\ttotal: 4m 47s\tremaining: 6m 26s\n",
            "213:\tlearn: 1.4315036\ttotal: 4m 48s\tremaining: 6m 25s\n",
            "214:\tlearn: 1.4314906\ttotal: 4m 49s\tremaining: 6m 24s\n",
            "215:\tlearn: 1.4314822\ttotal: 4m 51s\tremaining: 6m 23s\n",
            "216:\tlearn: 1.4314757\ttotal: 4m 52s\tremaining: 6m 21s\n",
            "217:\tlearn: 1.4314738\ttotal: 4m 53s\tremaining: 6m 20s\n",
            "218:\tlearn: 1.4314718\ttotal: 4m 55s\tremaining: 6m 18s\n",
            "219:\tlearn: 1.4314612\ttotal: 4m 56s\tremaining: 6m 17s\n",
            "220:\tlearn: 1.4314509\ttotal: 4m 57s\tremaining: 6m 16s\n",
            "221:\tlearn: 1.4314459\ttotal: 4m 59s\tremaining: 6m 14s\n",
            "222:\tlearn: 1.4314434\ttotal: 5m\tremaining: 6m 13s\n",
            "223:\tlearn: 1.4314412\ttotal: 5m 1s\tremaining: 6m 11s\n",
            "224:\tlearn: 1.4314310\ttotal: 5m 2s\tremaining: 6m 10s\n",
            "225:\tlearn: 1.4314220\ttotal: 5m 4s\tremaining: 6m 9s\n",
            "226:\tlearn: 1.4314079\ttotal: 5m 5s\tremaining: 6m 7s\n",
            "227:\tlearn: 1.4314026\ttotal: 5m 6s\tremaining: 6m 6s\n",
            "228:\tlearn: 1.4313973\ttotal: 5m 8s\tremaining: 6m 4s\n",
            "229:\tlearn: 1.4313907\ttotal: 5m 9s\tremaining: 6m 3s\n",
            "230:\tlearn: 1.4313845\ttotal: 5m 11s\tremaining: 6m 2s\n",
            "231:\tlearn: 1.4313772\ttotal: 5m 12s\tremaining: 6m 1s\n",
            "232:\tlearn: 1.4313689\ttotal: 5m 14s\tremaining: 5m 59s\n",
            "233:\tlearn: 1.4313545\ttotal: 5m 15s\tremaining: 5m 58s\n",
            "234:\tlearn: 1.4313523\ttotal: 5m 16s\tremaining: 5m 56s\n",
            "235:\tlearn: 1.4313478\ttotal: 5m 17s\tremaining: 5m 55s\n",
            "236:\tlearn: 1.4313458\ttotal: 5m 19s\tremaining: 5m 54s\n",
            "237:\tlearn: 1.4313401\ttotal: 5m 20s\tremaining: 5m 52s\n",
            "238:\tlearn: 1.4313336\ttotal: 5m 22s\tremaining: 5m 51s\n",
            "239:\tlearn: 1.4313287\ttotal: 5m 23s\tremaining: 5m 50s\n",
            "240:\tlearn: 1.4313180\ttotal: 5m 24s\tremaining: 5m 49s\n",
            "241:\tlearn: 1.4313101\ttotal: 5m 26s\tremaining: 5m 47s\n",
            "242:\tlearn: 1.4313058\ttotal: 5m 27s\tremaining: 5m 46s\n",
            "243:\tlearn: 1.4313016\ttotal: 5m 29s\tremaining: 5m 45s\n",
            "244:\tlearn: 1.4312952\ttotal: 5m 30s\tremaining: 5m 43s\n",
            "245:\tlearn: 1.4312813\ttotal: 5m 31s\tremaining: 5m 42s\n",
            "246:\tlearn: 1.4312755\ttotal: 5m 32s\tremaining: 5m 41s\n",
            "247:\tlearn: 1.4312701\ttotal: 5m 34s\tremaining: 5m 39s\n",
            "248:\tlearn: 1.4312666\ttotal: 5m 35s\tremaining: 5m 38s\n",
            "249:\tlearn: 1.4312639\ttotal: 5m 36s\tremaining: 5m 36s\n",
            "250:\tlearn: 1.4312556\ttotal: 5m 38s\tremaining: 5m 35s\n",
            "251:\tlearn: 1.4312489\ttotal: 5m 39s\tremaining: 5m 34s\n",
            "252:\tlearn: 1.4312444\ttotal: 5m 41s\tremaining: 5m 33s\n",
            "253:\tlearn: 1.4312362\ttotal: 5m 42s\tremaining: 5m 31s\n",
            "254:\tlearn: 1.4312227\ttotal: 5m 44s\tremaining: 5m 30s\n",
            "255:\tlearn: 1.4312038\ttotal: 5m 46s\tremaining: 5m 29s\n",
            "256:\tlearn: 1.4311943\ttotal: 5m 48s\tremaining: 5m 29s\n",
            "257:\tlearn: 1.4311868\ttotal: 5m 50s\tremaining: 5m 28s\n",
            "258:\tlearn: 1.4311792\ttotal: 5m 51s\tremaining: 5m 27s\n",
            "259:\tlearn: 1.4311776\ttotal: 5m 52s\tremaining: 5m 25s\n",
            "260:\tlearn: 1.4311709\ttotal: 5m 54s\tremaining: 5m 24s\n",
            "261:\tlearn: 1.4311644\ttotal: 5m 55s\tremaining: 5m 22s\n",
            "262:\tlearn: 1.4311606\ttotal: 5m 56s\tremaining: 5m 21s\n",
            "263:\tlearn: 1.4311575\ttotal: 5m 57s\tremaining: 5m 19s\n",
            "264:\tlearn: 1.4311555\ttotal: 5m 58s\tremaining: 5m 18s\n",
            "265:\tlearn: 1.4311537\ttotal: 6m\tremaining: 5m 16s\n",
            "266:\tlearn: 1.4311478\ttotal: 6m 1s\tremaining: 5m 15s\n",
            "267:\tlearn: 1.4311408\ttotal: 6m 2s\tremaining: 5m 13s\n",
            "268:\tlearn: 1.4311352\ttotal: 6m 3s\tremaining: 5m 12s\n",
            "269:\tlearn: 1.4311265\ttotal: 6m 5s\tremaining: 5m 11s\n",
            "270:\tlearn: 1.4311221\ttotal: 6m 6s\tremaining: 5m 9s\n",
            "271:\tlearn: 1.4311173\ttotal: 6m 8s\tremaining: 5m 8s\n",
            "272:\tlearn: 1.4311155\ttotal: 6m 9s\tremaining: 5m 7s\n",
            "273:\tlearn: 1.4311122\ttotal: 6m 10s\tremaining: 5m 5s\n",
            "274:\tlearn: 1.4311087\ttotal: 6m 11s\tremaining: 5m 3s\n",
            "275:\tlearn: 1.4310944\ttotal: 6m 13s\tremaining: 5m 2s\n",
            "276:\tlearn: 1.4310853\ttotal: 6m 14s\tremaining: 5m 1s\n",
            "277:\tlearn: 1.4310795\ttotal: 6m 15s\tremaining: 5m\n",
            "278:\tlearn: 1.4310717\ttotal: 6m 17s\tremaining: 4m 58s\n",
            "279:\tlearn: 1.4310602\ttotal: 6m 18s\tremaining: 4m 57s\n",
            "280:\tlearn: 1.4310549\ttotal: 6m 19s\tremaining: 4m 56s\n",
            "281:\tlearn: 1.4310433\ttotal: 6m 21s\tremaining: 4m 54s\n",
            "282:\tlearn: 1.4310312\ttotal: 6m 22s\tremaining: 4m 53s\n",
            "283:\tlearn: 1.4310302\ttotal: 6m 23s\tremaining: 4m 51s\n",
            "284:\tlearn: 1.4310227\ttotal: 6m 25s\tremaining: 4m 50s\n",
            "285:\tlearn: 1.4310176\ttotal: 6m 26s\tremaining: 4m 49s\n",
            "286:\tlearn: 1.4310107\ttotal: 6m 28s\tremaining: 4m 48s\n",
            "287:\tlearn: 1.4309979\ttotal: 6m 29s\tremaining: 4m 46s\n",
            "288:\tlearn: 1.4309925\ttotal: 6m 31s\tremaining: 4m 45s\n",
            "289:\tlearn: 1.4309875\ttotal: 6m 32s\tremaining: 4m 44s\n",
            "290:\tlearn: 1.4309813\ttotal: 6m 33s\tremaining: 4m 42s\n",
            "291:\tlearn: 1.4309795\ttotal: 6m 35s\tremaining: 4m 41s\n",
            "292:\tlearn: 1.4309674\ttotal: 6m 36s\tremaining: 4m 40s\n",
            "293:\tlearn: 1.4309632\ttotal: 6m 37s\tremaining: 4m 38s\n",
            "294:\tlearn: 1.4309616\ttotal: 6m 39s\tremaining: 4m 37s\n",
            "295:\tlearn: 1.4309586\ttotal: 6m 40s\tremaining: 4m 36s\n",
            "296:\tlearn: 1.4309495\ttotal: 6m 42s\tremaining: 4m 34s\n",
            "297:\tlearn: 1.4309400\ttotal: 6m 43s\tremaining: 4m 33s\n",
            "298:\tlearn: 1.4309311\ttotal: 6m 44s\tremaining: 4m 32s\n",
            "299:\tlearn: 1.4309208\ttotal: 6m 45s\tremaining: 4m 30s\n",
            "300:\tlearn: 1.4309158\ttotal: 6m 46s\tremaining: 4m 29s\n",
            "301:\tlearn: 1.4309100\ttotal: 6m 48s\tremaining: 4m 27s\n",
            "302:\tlearn: 1.4309073\ttotal: 6m 49s\tremaining: 4m 26s\n",
            "303:\tlearn: 1.4308990\ttotal: 6m 50s\tremaining: 4m 24s\n",
            "304:\tlearn: 1.4308970\ttotal: 6m 52s\tremaining: 4m 23s\n",
            "305:\tlearn: 1.4308954\ttotal: 6m 53s\tremaining: 4m 22s\n",
            "306:\tlearn: 1.4308841\ttotal: 6m 55s\tremaining: 4m 21s\n",
            "307:\tlearn: 1.4308626\ttotal: 6m 56s\tremaining: 4m 19s\n",
            "308:\tlearn: 1.4308580\ttotal: 6m 57s\tremaining: 4m 18s\n",
            "309:\tlearn: 1.4308566\ttotal: 6m 59s\tremaining: 4m 16s\n",
            "310:\tlearn: 1.4308496\ttotal: 7m\tremaining: 4m 15s\n",
            "311:\tlearn: 1.4308446\ttotal: 7m 1s\tremaining: 4m 14s\n",
            "312:\tlearn: 1.4308404\ttotal: 7m 3s\tremaining: 4m 12s\n",
            "313:\tlearn: 1.4308313\ttotal: 7m 4s\tremaining: 4m 11s\n",
            "314:\tlearn: 1.4308232\ttotal: 7m 5s\tremaining: 4m 10s\n",
            "315:\tlearn: 1.4308209\ttotal: 7m 7s\tremaining: 4m 8s\n",
            "316:\tlearn: 1.4308180\ttotal: 7m 8s\tremaining: 4m 7s\n",
            "317:\tlearn: 1.4308142\ttotal: 7m 9s\tremaining: 4m 6s\n",
            "318:\tlearn: 1.4308084\ttotal: 7m 11s\tremaining: 4m 4s\n",
            "319:\tlearn: 1.4308028\ttotal: 7m 12s\tremaining: 4m 3s\n",
            "320:\tlearn: 1.4307928\ttotal: 7m 14s\tremaining: 4m 2s\n",
            "321:\tlearn: 1.4307876\ttotal: 7m 15s\tremaining: 4m\n",
            "322:\tlearn: 1.4307769\ttotal: 7m 16s\tremaining: 3m 59s\n",
            "323:\tlearn: 1.4307731\ttotal: 7m 18s\tremaining: 3m 58s\n",
            "324:\tlearn: 1.4307674\ttotal: 7m 19s\tremaining: 3m 56s\n",
            "325:\tlearn: 1.4307661\ttotal: 7m 20s\tremaining: 3m 55s\n",
            "326:\tlearn: 1.4307648\ttotal: 7m 22s\tremaining: 3m 54s\n",
            "327:\tlearn: 1.4307621\ttotal: 7m 23s\tremaining: 3m 52s\n",
            "328:\tlearn: 1.4307608\ttotal: 7m 24s\tremaining: 3m 51s\n",
            "329:\tlearn: 1.4307582\ttotal: 7m 25s\tremaining: 3m 49s\n",
            "330:\tlearn: 1.4307555\ttotal: 7m 27s\tremaining: 3m 48s\n",
            "331:\tlearn: 1.4307516\ttotal: 7m 28s\tremaining: 3m 46s\n",
            "332:\tlearn: 1.4307488\ttotal: 7m 29s\tremaining: 3m 45s\n",
            "333:\tlearn: 1.4307460\ttotal: 7m 31s\tremaining: 3m 44s\n",
            "334:\tlearn: 1.4307406\ttotal: 7m 32s\tremaining: 3m 42s\n",
            "335:\tlearn: 1.4307386\ttotal: 7m 34s\tremaining: 3m 41s\n",
            "336:\tlearn: 1.4307349\ttotal: 7m 35s\tremaining: 3m 40s\n",
            "337:\tlearn: 1.4307320\ttotal: 7m 36s\tremaining: 3m 38s\n",
            "338:\tlearn: 1.4307305\ttotal: 7m 38s\tremaining: 3m 37s\n",
            "339:\tlearn: 1.4307259\ttotal: 7m 39s\tremaining: 3m 36s\n",
            "340:\tlearn: 1.4307189\ttotal: 7m 41s\tremaining: 3m 34s\n",
            "341:\tlearn: 1.4307121\ttotal: 7m 42s\tremaining: 3m 33s\n",
            "342:\tlearn: 1.4307090\ttotal: 7m 43s\tremaining: 3m 32s\n",
            "343:\tlearn: 1.4307006\ttotal: 7m 45s\tremaining: 3m 31s\n",
            "344:\tlearn: 1.4306953\ttotal: 7m 46s\tremaining: 3m 29s\n",
            "345:\tlearn: 1.4306886\ttotal: 7m 48s\tremaining: 3m 28s\n",
            "346:\tlearn: 1.4306861\ttotal: 7m 49s\tremaining: 3m 27s\n",
            "347:\tlearn: 1.4306840\ttotal: 7m 50s\tremaining: 3m 25s\n",
            "348:\tlearn: 1.4306801\ttotal: 7m 52s\tremaining: 3m 24s\n",
            "349:\tlearn: 1.4306789\ttotal: 7m 53s\tremaining: 3m 22s\n",
            "350:\tlearn: 1.4306738\ttotal: 7m 55s\tremaining: 3m 21s\n",
            "351:\tlearn: 1.4306722\ttotal: 7m 56s\tremaining: 3m 20s\n",
            "352:\tlearn: 1.4306685\ttotal: 7m 57s\tremaining: 3m 19s\n",
            "353:\tlearn: 1.4306668\ttotal: 7m 59s\tremaining: 3m 17s\n",
            "354:\tlearn: 1.4306657\ttotal: 8m\tremaining: 3m 16s\n",
            "355:\tlearn: 1.4306587\ttotal: 8m 2s\tremaining: 3m 14s\n",
            "356:\tlearn: 1.4306533\ttotal: 8m 3s\tremaining: 3m 13s\n",
            "357:\tlearn: 1.4306463\ttotal: 8m 4s\tremaining: 3m 12s\n",
            "358:\tlearn: 1.4306417\ttotal: 8m 5s\tremaining: 3m 10s\n",
            "359:\tlearn: 1.4306373\ttotal: 8m 7s\tremaining: 3m 9s\n",
            "360:\tlearn: 1.4306304\ttotal: 8m 8s\tremaining: 3m 8s\n",
            "361:\tlearn: 1.4306249\ttotal: 8m 10s\tremaining: 3m 6s\n",
            "362:\tlearn: 1.4306226\ttotal: 8m 11s\tremaining: 3m 5s\n",
            "363:\tlearn: 1.4305929\ttotal: 8m 13s\tremaining: 3m 4s\n",
            "364:\tlearn: 1.4305772\ttotal: 8m 14s\tremaining: 3m 2s\n",
            "365:\tlearn: 1.4305605\ttotal: 8m 15s\tremaining: 3m 1s\n",
            "366:\tlearn: 1.4305551\ttotal: 8m 17s\tremaining: 3m\n",
            "367:\tlearn: 1.4305479\ttotal: 8m 18s\tremaining: 2m 58s\n",
            "368:\tlearn: 1.4305440\ttotal: 8m 19s\tremaining: 2m 57s\n",
            "369:\tlearn: 1.4305374\ttotal: 8m 21s\tremaining: 2m 56s\n",
            "370:\tlearn: 1.4305317\ttotal: 8m 22s\tremaining: 2m 54s\n",
            "371:\tlearn: 1.4305241\ttotal: 8m 24s\tremaining: 2m 53s\n",
            "372:\tlearn: 1.4305164\ttotal: 8m 25s\tremaining: 2m 52s\n",
            "373:\tlearn: 1.4305144\ttotal: 8m 26s\tremaining: 2m 50s\n",
            "374:\tlearn: 1.4305049\ttotal: 8m 28s\tremaining: 2m 49s\n",
            "375:\tlearn: 1.4305028\ttotal: 8m 29s\tremaining: 2m 47s\n",
            "376:\tlearn: 1.4305012\ttotal: 8m 30s\tremaining: 2m 46s\n",
            "377:\tlearn: 1.4304978\ttotal: 8m 31s\tremaining: 2m 45s\n",
            "378:\tlearn: 1.4304961\ttotal: 8m 33s\tremaining: 2m 43s\n",
            "379:\tlearn: 1.4304905\ttotal: 8m 34s\tremaining: 2m 42s\n",
            "380:\tlearn: 1.4304839\ttotal: 8m 36s\tremaining: 2m 41s\n",
            "381:\tlearn: 1.4304811\ttotal: 8m 37s\tremaining: 2m 39s\n",
            "382:\tlearn: 1.4304693\ttotal: 8m 38s\tremaining: 2m 38s\n",
            "383:\tlearn: 1.4304587\ttotal: 8m 39s\tremaining: 2m 37s\n",
            "384:\tlearn: 1.4304552\ttotal: 8m 41s\tremaining: 2m 35s\n",
            "385:\tlearn: 1.4304522\ttotal: 8m 42s\tremaining: 2m 34s\n",
            "386:\tlearn: 1.4304412\ttotal: 8m 44s\tremaining: 2m 33s\n",
            "387:\tlearn: 1.4304372\ttotal: 8m 45s\tremaining: 2m 31s\n",
            "388:\tlearn: 1.4304351\ttotal: 8m 47s\tremaining: 2m 30s\n",
            "389:\tlearn: 1.4304339\ttotal: 8m 48s\tremaining: 2m 29s\n",
            "390:\tlearn: 1.4304327\ttotal: 8m 49s\tremaining: 2m 27s\n",
            "391:\tlearn: 1.4304311\ttotal: 8m 50s\tremaining: 2m 26s\n",
            "392:\tlearn: 1.4304300\ttotal: 8m 52s\tremaining: 2m 24s\n",
            "393:\tlearn: 1.4304277\ttotal: 8m 53s\tremaining: 2m 23s\n",
            "394:\tlearn: 1.4304253\ttotal: 8m 54s\tremaining: 2m 22s\n",
            "395:\tlearn: 1.4304245\ttotal: 8m 56s\tremaining: 2m 20s\n",
            "396:\tlearn: 1.4304217\ttotal: 8m 57s\tremaining: 2m 19s\n",
            "397:\tlearn: 1.4304161\ttotal: 8m 58s\tremaining: 2m 18s\n",
            "398:\tlearn: 1.4304139\ttotal: 9m\tremaining: 2m 16s\n",
            "399:\tlearn: 1.4304095\ttotal: 9m 1s\tremaining: 2m 15s\n",
            "400:\tlearn: 1.4304027\ttotal: 9m 2s\tremaining: 2m 14s\n",
            "401:\tlearn: 1.4304008\ttotal: 9m 4s\tremaining: 2m 12s\n",
            "402:\tlearn: 1.4303930\ttotal: 9m 5s\tremaining: 2m 11s\n",
            "403:\tlearn: 1.4303886\ttotal: 9m 6s\tremaining: 2m 9s\n",
            "404:\tlearn: 1.4303793\ttotal: 9m 8s\tremaining: 2m 8s\n",
            "405:\tlearn: 1.4303759\ttotal: 9m 9s\tremaining: 2m 7s\n",
            "406:\tlearn: 1.4303744\ttotal: 9m 11s\tremaining: 2m 5s\n",
            "407:\tlearn: 1.4303689\ttotal: 9m 12s\tremaining: 2m 4s\n",
            "408:\tlearn: 1.4303582\ttotal: 9m 14s\tremaining: 2m 3s\n",
            "409:\tlearn: 1.4303554\ttotal: 9m 15s\tremaining: 2m 1s\n",
            "410:\tlearn: 1.4303494\ttotal: 9m 17s\tremaining: 2m\n",
            "411:\tlearn: 1.4303442\ttotal: 9m 18s\tremaining: 1m 59s\n",
            "412:\tlearn: 1.4303383\ttotal: 9m 19s\tremaining: 1m 57s\n",
            "413:\tlearn: 1.4303348\ttotal: 9m 21s\tremaining: 1m 56s\n",
            "414:\tlearn: 1.4303287\ttotal: 9m 22s\tremaining: 1m 55s\n",
            "415:\tlearn: 1.4303265\ttotal: 9m 24s\tremaining: 1m 53s\n",
            "416:\tlearn: 1.4303210\ttotal: 9m 25s\tremaining: 1m 52s\n",
            "417:\tlearn: 1.4303185\ttotal: 9m 26s\tremaining: 1m 51s\n",
            "418:\tlearn: 1.4303161\ttotal: 9m 28s\tremaining: 1m 49s\n",
            "419:\tlearn: 1.4303130\ttotal: 9m 29s\tremaining: 1m 48s\n",
            "420:\tlearn: 1.4303084\ttotal: 9m 31s\tremaining: 1m 47s\n",
            "421:\tlearn: 1.4303050\ttotal: 9m 32s\tremaining: 1m 45s\n",
            "422:\tlearn: 1.4303010\ttotal: 9m 33s\tremaining: 1m 44s\n",
            "423:\tlearn: 1.4302973\ttotal: 9m 35s\tremaining: 1m 43s\n",
            "424:\tlearn: 1.4302956\ttotal: 9m 36s\tremaining: 1m 41s\n",
            "425:\tlearn: 1.4302938\ttotal: 9m 37s\tremaining: 1m 40s\n",
            "426:\tlearn: 1.4302890\ttotal: 9m 39s\tremaining: 1m 39s\n",
            "427:\tlearn: 1.4302865\ttotal: 9m 40s\tremaining: 1m 37s\n",
            "428:\tlearn: 1.4302826\ttotal: 9m 42s\tremaining: 1m 36s\n",
            "429:\tlearn: 1.4302798\ttotal: 9m 43s\tremaining: 1m 34s\n",
            "430:\tlearn: 1.4302764\ttotal: 9m 44s\tremaining: 1m 33s\n",
            "431:\tlearn: 1.4302641\ttotal: 9m 46s\tremaining: 1m 32s\n",
            "432:\tlearn: 1.4302620\ttotal: 9m 48s\tremaining: 1m 31s\n",
            "433:\tlearn: 1.4302573\ttotal: 9m 49s\tremaining: 1m 29s\n",
            "434:\tlearn: 1.4302542\ttotal: 9m 50s\tremaining: 1m 28s\n",
            "435:\tlearn: 1.4302523\ttotal: 9m 51s\tremaining: 1m 26s\n",
            "436:\tlearn: 1.4302480\ttotal: 9m 53s\tremaining: 1m 25s\n",
            "437:\tlearn: 1.4302445\ttotal: 9m 54s\tremaining: 1m 24s\n",
            "438:\tlearn: 1.4302358\ttotal: 9m 56s\tremaining: 1m 22s\n",
            "439:\tlearn: 1.4302289\ttotal: 9m 57s\tremaining: 1m 21s\n",
            "440:\tlearn: 1.4302265\ttotal: 9m 58s\tremaining: 1m 20s\n",
            "441:\tlearn: 1.4302245\ttotal: 10m\tremaining: 1m 18s\n",
            "442:\tlearn: 1.4302188\ttotal: 10m 1s\tremaining: 1m 17s\n",
            "443:\tlearn: 1.4302169\ttotal: 10m 2s\tremaining: 1m 16s\n",
            "444:\tlearn: 1.4302148\ttotal: 10m 4s\tremaining: 1m 14s\n",
            "445:\tlearn: 1.4302110\ttotal: 10m 5s\tremaining: 1m 13s\n",
            "446:\tlearn: 1.4302097\ttotal: 10m 7s\tremaining: 1m 11s\n",
            "447:\tlearn: 1.4302070\ttotal: 10m 8s\tremaining: 1m 10s\n",
            "448:\tlearn: 1.4302024\ttotal: 10m 9s\tremaining: 1m 9s\n",
            "449:\tlearn: 1.4302009\ttotal: 10m 11s\tremaining: 1m 7s\n",
            "450:\tlearn: 1.4302000\ttotal: 10m 12s\tremaining: 1m 6s\n",
            "451:\tlearn: 1.4301969\ttotal: 10m 13s\tremaining: 1m 5s\n",
            "452:\tlearn: 1.4301934\ttotal: 10m 15s\tremaining: 1m 3s\n",
            "453:\tlearn: 1.4301896\ttotal: 10m 16s\tremaining: 1m 2s\n",
            "454:\tlearn: 1.4301868\ttotal: 10m 18s\tremaining: 1m 1s\n",
            "455:\tlearn: 1.4301799\ttotal: 10m 19s\tremaining: 59.8s\n",
            "456:\tlearn: 1.4301767\ttotal: 10m 20s\tremaining: 58.4s\n",
            "457:\tlearn: 1.4301757\ttotal: 10m 21s\tremaining: 57s\n",
            "458:\tlearn: 1.4301676\ttotal: 10m 23s\tremaining: 55.7s\n",
            "459:\tlearn: 1.4301654\ttotal: 10m 24s\tremaining: 54.3s\n",
            "460:\tlearn: 1.4301636\ttotal: 10m 26s\tremaining: 53s\n",
            "461:\tlearn: 1.4301581\ttotal: 10m 27s\tremaining: 51.6s\n",
            "462:\tlearn: 1.4301564\ttotal: 10m 28s\tremaining: 50.2s\n",
            "463:\tlearn: 1.4301542\ttotal: 10m 30s\tremaining: 48.9s\n",
            "464:\tlearn: 1.4301482\ttotal: 10m 31s\tremaining: 47.5s\n",
            "465:\tlearn: 1.4301441\ttotal: 10m 33s\tremaining: 46.2s\n",
            "466:\tlearn: 1.4301427\ttotal: 10m 34s\tremaining: 44.8s\n",
            "467:\tlearn: 1.4301413\ttotal: 10m 35s\tremaining: 43.5s\n",
            "468:\tlearn: 1.4301353\ttotal: 10m 37s\tremaining: 42.1s\n",
            "469:\tlearn: 1.4301312\ttotal: 10m 38s\tremaining: 40.8s\n",
            "470:\tlearn: 1.4301283\ttotal: 10m 40s\tremaining: 39.4s\n",
            "471:\tlearn: 1.4301241\ttotal: 10m 41s\tremaining: 38s\n",
            "472:\tlearn: 1.4301234\ttotal: 10m 42s\tremaining: 36.7s\n",
            "473:\tlearn: 1.4301191\ttotal: 10m 44s\tremaining: 35.3s\n",
            "474:\tlearn: 1.4301169\ttotal: 10m 45s\tremaining: 34s\n",
            "475:\tlearn: 1.4301127\ttotal: 10m 46s\tremaining: 32.6s\n",
            "476:\tlearn: 1.4301111\ttotal: 10m 47s\tremaining: 31.2s\n",
            "477:\tlearn: 1.4301078\ttotal: 10m 48s\tremaining: 29.9s\n",
            "478:\tlearn: 1.4301064\ttotal: 10m 50s\tremaining: 28.5s\n",
            "479:\tlearn: 1.4301036\ttotal: 10m 51s\tremaining: 27.1s\n",
            "480:\tlearn: 1.4301008\ttotal: 10m 52s\tremaining: 25.8s\n",
            "481:\tlearn: 1.4300982\ttotal: 10m 53s\tremaining: 24.4s\n",
            "482:\tlearn: 1.4300970\ttotal: 10m 55s\tremaining: 23.1s\n",
            "483:\tlearn: 1.4300952\ttotal: 10m 56s\tremaining: 21.7s\n",
            "484:\tlearn: 1.4300933\ttotal: 10m 57s\tremaining: 20.3s\n",
            "485:\tlearn: 1.4300915\ttotal: 10m 59s\tremaining: 19s\n",
            "486:\tlearn: 1.4300879\ttotal: 11m\tremaining: 17.6s\n",
            "487:\tlearn: 1.4300800\ttotal: 11m 1s\tremaining: 16.3s\n",
            "488:\tlearn: 1.4300787\ttotal: 11m 3s\tremaining: 14.9s\n",
            "489:\tlearn: 1.4300735\ttotal: 11m 4s\tremaining: 13.6s\n",
            "490:\tlearn: 1.4300684\ttotal: 11m 5s\tremaining: 12.2s\n",
            "491:\tlearn: 1.4300669\ttotal: 11m 7s\tremaining: 10.8s\n",
            "492:\tlearn: 1.4300656\ttotal: 11m 8s\tremaining: 9.49s\n",
            "493:\tlearn: 1.4300647\ttotal: 11m 9s\tremaining: 8.13s\n",
            "494:\tlearn: 1.4300629\ttotal: 11m 11s\tremaining: 6.78s\n",
            "495:\tlearn: 1.4300614\ttotal: 11m 12s\tremaining: 5.42s\n",
            "496:\tlearn: 1.4300602\ttotal: 11m 13s\tremaining: 4.07s\n",
            "497:\tlearn: 1.4300587\ttotal: 11m 15s\tremaining: 2.71s\n",
            "498:\tlearn: 1.4300544\ttotal: 11m 16s\tremaining: 1.35s\n",
            "499:\tlearn: 1.4300522\ttotal: 11m 17s\tremaining: 0us\n"
          ],
          "name": "stdout"
        },
        {
          "output_type": "execute_result",
          "data": {
            "text/plain": [
              "<catboost.core.CatBoostRegressor at 0x7f54960f4090>"
            ]
          },
          "metadata": {
            "tags": []
          },
          "execution_count": 41
        }
      ]
    },
    {
      "cell_type": "code",
      "metadata": {
        "id": "SIGTX7-bTzzz"
      },
      "source": [
        "catboost = model.predict(X_test)"
      ],
      "execution_count": null,
      "outputs": []
    },
    {
      "cell_type": "code",
      "metadata": {
        "colab": {
          "base_uri": "https://localhost:8080/"
        },
        "id": "4m7P-nOfUd36",
        "outputId": "6e2773e7-8d23-4d0a-a72b-36d0eaeaf684"
      },
      "source": [
        "mean_squared_error(catboost, y_test)"
      ],
      "execution_count": null,
      "outputs": [
        {
          "output_type": "execute_result",
          "data": {
            "text/plain": [
              "2.0501550549951197"
            ]
          },
          "metadata": {
            "tags": []
          },
          "execution_count": 43
        }
      ]
    },
    {
      "cell_type": "code",
      "metadata": {
        "colab": {
          "base_uri": "https://localhost:8080/",
          "height": 366
        },
        "id": "pgwhTtslYPRX",
        "outputId": "f666c017-e572-410b-8f70-e566b13a2455"
      },
      "source": [
        "plt.hist(catboost)"
      ],
      "execution_count": null,
      "outputs": [
        {
          "output_type": "execute_result",
          "data": {
            "text/plain": [
              "(array([1.10000e+02, 4.30000e+01, 3.98000e+02, 7.03000e+02, 3.15000e+03,\n",
              "        2.09150e+04, 1.11200e+05, 2.74637e+05, 1.90862e+05, 3.16970e+04]),\n",
              " array([2.28084495, 3.00491853, 3.72899211, 4.45306569, 5.17713927,\n",
              "        5.90121285, 6.62528643, 7.34936001, 8.07343359, 8.79750717,\n",
              "        9.52158075]),\n",
              " <a list of 10 Patch objects>)"
            ]
          },
          "metadata": {
            "tags": []
          },
          "execution_count": 45
        },
        {
          "output_type": "display_data",
          "data": {
            "image/png": "[encoded data removed]",
            "text/plain": [
              "<Figure size 432x288 with 1 Axes>"
            ]
          },
          "metadata": {
            "tags": [],
            "needs_background": "light"
          }
        }
      ]
    },
    {
      "cell_type": "code",
      "metadata": {
        "colab": {
          "base_uri": "https://localhost:8080/",
          "height": 332
        },
        "id": "0XBh77b8YRii",
        "outputId": "ef6ed858-bf22-4b7d-9b2b-4f58b669a2cd"
      },
      "source": [
        "plt.hist(y_test)"
      ],
      "execution_count": null,
      "outputs": [
        {
          "output_type": "execute_result",
          "data": {
            "text/plain": [
              "(array([  1674.,   2277.,   4204.,  10481.,  28026.,  64065., 137495.,\n",
              "        164462., 125068.,  95963.]),\n",
              " array([ 1. ,  1.9,  2.8,  3.7,  4.6,  5.5,  6.4,  7.3,  8.2,  9.1, 10. ]),\n",
              " <a list of 10 Patch objects>)"
            ]
          },
          "metadata": {
            "tags": []
          },
          "execution_count": 46
        },
        {
          "output_type": "display_data",
          "data": {
            "image/png": "[encoded data removed]",
            "text/plain": [
              "<Figure size 432x288 with 1 Axes>"
            ]
          },
          "metadata": {
            "tags": [],
            "needs_background": "light"
          }
        }
      ]
    }
  ]
}